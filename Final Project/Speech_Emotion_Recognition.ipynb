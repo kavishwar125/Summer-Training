{
  "cells": [
    {
      "cell_type": "markdown",
      "metadata": {
        "id": "view-in-github",
        "colab_type": "text"
      },
      "source": [
        "<a href=\"https://colab.research.google.com/github/kavishwar125/Summer-Training/blob/main/Final%20Project/Speech_Emotion_Recognition.ipynb\" target=\"_parent\"><img src=\"https://colab.research.google.com/assets/colab-badge.svg\" alt=\"Open In Colab\"/></a>"
      ]
    },
    {
      "cell_type": "code",
      "execution_count": null,
      "metadata": {
        "colab": {
          "base_uri": "https://localhost:8080/"
        },
        "id": "hE6-nAxYK2Md",
        "outputId": "7ee4c3d6-b30f-48b7-db95-071bd97c9107"
      },
      "outputs": [
        {
          "output_type": "stream",
          "name": "stderr",
          "text": [
            "/usr/local/lib/python3.7/dist-packages/resampy/interpn.py:114: NumbaWarning: The TBB threading layer requires TBB version 2019.5 or later i.e., TBB_INTERFACE_VERSION >= 11005. Found TBB_INTERFACE_VERSION = 9107. The TBB threading layer is disabled.\n",
            "  _resample_loop_p(x, t_out, interp_win, interp_delta, num_table, scale, y)\n"
          ]
        }
      ],
      "source": [
        "import librosa\n",
        "import soundfile\n",
        "import os, glob, pickle\n",
        "import numpy as np\n",
        "from sklearn.model_selection import train_test_split\n",
        "from sklearn.neural_network import MLPClassifier\n",
        "from sklearn.metrics import accuracy_score"
      ]
    },
    {
      "cell_type": "code",
      "execution_count": null,
      "metadata": {
        "colab": {
          "base_uri": "https://localhost:8080/"
        },
        "id": "QURx3Dj-Ms1i",
        "outputId": "c2c1cf0c-f2f1-47e4-f529-ee798ef26142"
      },
      "outputs": [
        {
          "output_type": "stream",
          "name": "stdout",
          "text": [
            "Mounted at /content/drive/\n"
          ]
        }
      ],
      "source": [
        "from google.colab import drive\n",
        "drive.mount('/content/drive/')"
      ]
    },
    {
      "cell_type": "code",
      "execution_count": null,
      "metadata": {
        "id": "p3gKC3wELkiF"
      },
      "outputs": [],
      "source": [
        "#DataFlair - Extract features (mfcc, chroma, mel) from a sound file\n",
        "def extract_feature(file_name, mfcc, chroma, mel):\n",
        "    with soundfile.SoundFile(file_name) as sound_file:\n",
        "        X = sound_file.read(dtype=\"float32\")\n",
        "        sample_rate=sound_file.samplerate\n",
        "        if chroma:\n",
        "            stft=np.abs(librosa.stft(X))\n",
        "        result=np.array([])\n",
        "        if mfcc:\n",
        "            mfccs=np.mean(librosa.feature.mfcc(y=X, sr=sample_rate, n_mfcc=40).T, axis=0)\n",
        "            result=np.hstack((result, mfccs))\n",
        "        if chroma:\n",
        "            chroma=np.mean(librosa.feature.chroma_stft(S=stft, sr=sample_rate).T,axis=0)\n",
        "            result=np.hstack((result, chroma))\n",
        "        if mel:\n",
        "            mel=np.mean(librosa.feature.melspectrogram(X, sr=sample_rate).T,axis=0)\n",
        "            result=np.hstack((result, mel))\n",
        "    return result"
      ]
    },
    {
      "cell_type": "code",
      "execution_count": null,
      "metadata": {
        "id": "F4AY9lO2LxzC"
      },
      "outputs": [],
      "source": [
        "#DataFlair - Emotions in the RAVDESS dataset\n",
        "emotions={\n",
        "  '01':'neutral',\n",
        "  '02':'calm',\n",
        "  '03':'happy',\n",
        "  '04':'sad',\n",
        "  '05':'angry',\n",
        "  '06':'fearful',\n",
        "  '07':'disgust',\n",
        "  '08':'surprised'\n",
        "}\n",
        "\n",
        "#DataFlair - Emotions to observe\n",
        "observed_emotions=['calm', 'happy', 'fearful', 'disgust']"
      ]
    },
    {
      "cell_type": "code",
      "execution_count": null,
      "metadata": {
        "id": "8gg6Y6xJLyRl"
      },
      "outputs": [],
      "source": [
        "#DataFlair - Load the data and extract features for each sound file\n",
        "def load_data(test_size=0.2):\n",
        "    x,y=[],[]\n",
        "    for file in glob.glob(\"/content/drive/MyDrive/DataFlair/ravdess data/Actor_*//*.wav\"):\n",
        "        file_name=os.path.basename(file)\n",
        "        emotion=emotions[file_name.split(\"-\")[2]]\n",
        "        if emotion not in observed_emotions:\n",
        "            continue\n",
        "        feature=extract_feature(file, mfcc=True, chroma=True, mel=True)\n",
        "        x.append(feature)\n",
        "        y.append(emotion)\n",
        "    return train_test_split(np.array(x), y, test_size=test_size, random_state=9)"
      ]
    },
    {
      "cell_type": "code",
      "execution_count": null,
      "metadata": {
        "id": "GZM_VsDWL1wy"
      },
      "outputs": [],
      "source": [
        "#DataFlair - Split the dataset\n",
        "x_train,x_test,y_train,y_test=load_data(test_size=0.25)"
      ]
    },
    {
      "cell_type": "code",
      "execution_count": null,
      "metadata": {
        "colab": {
          "base_uri": "https://localhost:8080/"
        },
        "id": "mH3vjRJyL5dJ",
        "outputId": "79a03486-5219-4301-d996-c724e261cd16"
      },
      "outputs": [
        {
          "output_type": "stream",
          "name": "stdout",
          "text": [
            "(576, 192)\n"
          ]
        }
      ],
      "source": [
        "#DataFlair - Get the shape of the training and testing datasets\n",
        "print((x_train.shape[0], x_test.shape[0]))"
      ]
    },
    {
      "cell_type": "code",
      "execution_count": null,
      "metadata": {
        "id": "r_az5CNGbG53"
      },
      "outputs": [],
      "source": [
        "#DataFlair - Initialize the Multi Layer Perceptron Classifier\n",
        "model=MLPClassifier(alpha=0.01, batch_size=256, epsilon=1e-08, hidden_layer_sizes=(300,), learning_rate='adaptive', max_iter=500)"
      ]
    },
    {
      "cell_type": "code",
      "execution_count": null,
      "metadata": {
        "colab": {
          "base_uri": "https://localhost:8080/"
        },
        "id": "_qlNHISXbk4w",
        "outputId": "25c92b91-d034-43b0-a50a-8b3996458dd8"
      },
      "outputs": [
        {
          "output_type": "execute_result",
          "data": {
            "text/plain": [
              "MLPClassifier(alpha=0.01, batch_size=256, hidden_layer_sizes=(300,),\n",
              "              learning_rate='adaptive', max_iter=500)"
            ]
          },
          "metadata": {},
          "execution_count": 11
        }
      ],
      "source": [
        "#DataFlair - Train the model\n",
        "model.fit(x_train,y_train)"
      ]
    },
    {
      "cell_type": "code",
      "execution_count": null,
      "metadata": {
        "colab": {
          "base_uri": "https://localhost:8080/"
        },
        "id": "PqWRxmnkbnjl",
        "outputId": "952a8003-e2fa-4d1e-a610-4ae374e422ec"
      },
      "outputs": [
        {
          "output_type": "execute_result",
          "data": {
            "text/plain": [
              "array(['disgust', 'fearful', 'fearful', 'disgust', 'happy', 'disgust',\n",
              "       'fearful', 'happy', 'calm', 'calm', 'fearful', 'fearful', 'calm',\n",
              "       'happy', 'fearful', 'happy', 'calm', 'fearful', 'calm', 'disgust',\n",
              "       'calm', 'calm', 'calm', 'fearful', 'happy', 'fearful', 'disgust',\n",
              "       'happy', 'fearful', 'fearful', 'fearful', 'disgust', 'calm',\n",
              "       'disgust', 'happy', 'disgust', 'calm', 'happy', 'disgust', 'calm',\n",
              "       'calm', 'calm', 'calm', 'disgust', 'happy', 'fearful', 'disgust',\n",
              "       'calm', 'fearful', 'fearful', 'fearful', 'disgust', 'happy',\n",
              "       'fearful', 'calm', 'calm', 'happy', 'disgust', 'calm', 'happy',\n",
              "       'fearful', 'calm', 'calm', 'calm', 'fearful', 'calm', 'fearful',\n",
              "       'calm', 'calm', 'calm', 'fearful', 'happy', 'disgust', 'calm',\n",
              "       'disgust', 'fearful', 'fearful', 'calm', 'fearful', 'calm',\n",
              "       'happy', 'fearful', 'disgust', 'fearful', 'calm', 'fearful',\n",
              "       'fearful', 'happy', 'happy', 'happy', 'disgust', 'fearful',\n",
              "       'fearful', 'disgust', 'fearful', 'calm', 'fearful', 'fearful',\n",
              "       'disgust', 'fearful', 'calm', 'fearful', 'calm', 'fearful',\n",
              "       'happy', 'fearful', 'happy', 'calm', 'happy', 'disgust', 'fearful',\n",
              "       'fearful', 'disgust', 'fearful', 'disgust', 'calm', 'fearful',\n",
              "       'fearful', 'fearful', 'happy', 'disgust', 'calm', 'happy', 'happy',\n",
              "       'fearful', 'disgust', 'disgust', 'disgust', 'disgust', 'happy',\n",
              "       'calm', 'fearful', 'fearful', 'fearful', 'calm', 'disgust',\n",
              "       'fearful', 'fearful', 'calm', 'fearful', 'calm', 'disgust',\n",
              "       'disgust', 'disgust', 'disgust', 'fearful', 'disgust', 'disgust',\n",
              "       'disgust', 'happy', 'happy', 'calm', 'calm', 'fearful', 'disgust',\n",
              "       'happy', 'calm', 'fearful', 'disgust', 'calm', 'disgust', 'calm',\n",
              "       'calm', 'calm', 'fearful', 'calm', 'calm', 'fearful', 'fearful',\n",
              "       'disgust', 'disgust', 'calm', 'fearful', 'calm', 'fearful', 'calm',\n",
              "       'fearful', 'happy', 'happy', 'disgust', 'disgust', 'disgust',\n",
              "       'happy', 'fearful', 'fearful', 'disgust', 'disgust', 'disgust',\n",
              "       'fearful', 'calm', 'happy', 'happy'], dtype='<U7')"
            ]
          },
          "metadata": {},
          "execution_count": 12
        }
      ],
      "source": [
        "#DataFlair - Predict for the test set\n",
        "y_pred=model.predict(x_test)\n",
        "y_pred"
      ]
    },
    {
      "cell_type": "code",
      "execution_count": null,
      "metadata": {
        "colab": {
          "base_uri": "https://localhost:8080/"
        },
        "id": "HbXdzjiOcYlo",
        "outputId": "96aee24f-6bd4-4792-9fe8-553558b59916"
      },
      "outputs": [
        {
          "output_type": "stream",
          "name": "stdout",
          "text": [
            "Accuracy: 78.12%\n"
          ]
        }
      ],
      "source": [
        "#DataFlair - Calculate the accuracy of our model\n",
        "accuracy=accuracy_score(y_true=y_test, y_pred=y_pred)\n",
        "\n",
        "#DataFlair - Print the accuracy\n",
        "print(\"Accuracy: {:.2f}%\".format(accuracy*100))"
      ]
    }
  ],
  "metadata": {
    "colab": {
      "collapsed_sections": [],
      "name": "Speech Emotion Recognition.ipynb",
      "provenance": [],
      "authorship_tag": "ABX9TyNGHsbqyn8cmNdRG1D0aw0M",
      "include_colab_link": true
    },
    "kernelspec": {
      "display_name": "Python 3",
      "name": "python3"
    },
    "language_info": {
      "name": "python"
    },
    "accelerator": "GPU",
    "gpuClass": "standard"
  },
  "nbformat": 4,
  "nbformat_minor": 0
}