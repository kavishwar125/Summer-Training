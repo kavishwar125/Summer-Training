{
  "cells": [
    {
      "cell_type": "markdown",
      "metadata": {
        "id": "view-in-github",
        "colab_type": "text"
      },
      "source": [
        "<a href=\"https://colab.research.google.com/github/kavishwar125/Summer-Training/blob/main/flight_price_prediction.ipynb\" target=\"_parent\"><img src=\"https://colab.research.google.com/assets/colab-badge.svg\" alt=\"Open In Colab\"/></a>"
      ]
    },
    {
      "cell_type": "code",
      "execution_count": 1,
      "id": "f18ef988",
      "metadata": {
        "execution": {
          "iopub.execute_input": "2022-06-20T14:07:57.719566Z",
          "iopub.status.busy": "2022-06-20T14:07:57.718833Z",
          "iopub.status.idle": "2022-06-20T14:07:59.055485Z",
          "shell.execute_reply": "2022-06-20T14:07:59.054377Z"
        },
        "id": "f18ef988",
        "papermill": {
          "duration": 1.355671,
          "end_time": "2022-06-20T14:07:59.058146",
          "exception": false,
          "start_time": "2022-06-20T14:07:57.702475",
          "status": "completed"
        },
        "tags": []
      },
      "outputs": [],
      "source": [
        "import numpy as np\n",
        "import pandas as pd\n",
        "import matplotlib.pyplot as plt\n",
        "import seaborn as sns\n",
        "import sklearn"
      ]
    },
    {
      "cell_type": "code",
      "execution_count": 2,
      "id": "fff2af6e",
      "metadata": {
        "execution": {
          "iopub.execute_input": "2022-06-20T14:07:59.084985Z",
          "iopub.status.busy": "2022-06-20T14:07:59.084595Z",
          "iopub.status.idle": "2022-06-20T14:07:59.933205Z",
          "shell.execute_reply": "2022-06-20T14:07:59.932094Z"
        },
        "id": "fff2af6e",
        "papermill": {
          "duration": 0.865023,
          "end_time": "2022-06-20T14:07:59.935694",
          "exception": false,
          "start_time": "2022-06-20T14:07:59.070671",
          "status": "completed"
        },
        "tags": []
      },
      "outputs": [],
      "source": [
        "df = pd.read_csv(\"/content/Clean_Dataset.csv\")"
      ]
    },
    {
      "cell_type": "code",
      "execution_count": 3,
      "id": "cafc8b1e",
      "metadata": {
        "execution": {
          "iopub.execute_input": "2022-06-20T14:07:59.962841Z",
          "iopub.status.busy": "2022-06-20T14:07:59.962453Z",
          "iopub.status.idle": "2022-06-20T14:07:59.996728Z",
          "shell.execute_reply": "2022-06-20T14:07:59.996016Z"
        },
        "id": "cafc8b1e",
        "outputId": "b97f8d8c-6d1d-4f1c-a758-3a02d9f3a122",
        "papermill": {
          "duration": 0.051153,
          "end_time": "2022-06-20T14:07:59.998872",
          "exception": false,
          "start_time": "2022-06-20T14:07:59.947719",
          "status": "completed"
        },
        "tags": [],
        "colab": {
          "base_uri": "https://localhost:8080/",
          "height": 424
        }
      },
      "outputs": [
        {
          "output_type": "execute_result",
          "data": {
            "text/plain": [
              "        Unnamed: 0   airline   flight source_city departure_time stops  \\\n",
              "0                0  SpiceJet  SG-8709       Delhi        Evening  zero   \n",
              "1                1  SpiceJet  SG-8157       Delhi  Early_Morning  zero   \n",
              "2                2   AirAsia   I5-764       Delhi  Early_Morning  zero   \n",
              "3                3   Vistara   UK-995       Delhi        Morning  zero   \n",
              "4                4   Vistara   UK-963       Delhi        Morning  zero   \n",
              "...            ...       ...      ...         ...            ...   ...   \n",
              "300148      300148   Vistara   UK-822     Chennai        Morning   one   \n",
              "300149      300149   Vistara   UK-826     Chennai      Afternoon   one   \n",
              "300150      300150   Vistara   UK-832     Chennai  Early_Morning   one   \n",
              "300151      300151   Vistara   UK-828     Chennai  Early_Morning   one   \n",
              "300152      300152   Vistara   UK-822     Chennai        Morning   one   \n",
              "\n",
              "         arrival_time destination_city     class  duration  days_left  price  \n",
              "0               Night           Mumbai   Economy      2.17          1   5953  \n",
              "1             Morning           Mumbai   Economy      2.33          1   5953  \n",
              "2       Early_Morning           Mumbai   Economy      2.17          1   5956  \n",
              "3           Afternoon           Mumbai   Economy      2.25          1   5955  \n",
              "4             Morning           Mumbai   Economy      2.33          1   5955  \n",
              "...               ...              ...       ...       ...        ...    ...  \n",
              "300148        Evening        Hyderabad  Business     10.08         49  69265  \n",
              "300149          Night        Hyderabad  Business     10.42         49  77105  \n",
              "300150          Night        Hyderabad  Business     13.83         49  79099  \n",
              "300151        Evening        Hyderabad  Business     10.00         49  81585  \n",
              "300152        Evening        Hyderabad  Business     10.08         49  81585  \n",
              "\n",
              "[300153 rows x 12 columns]"
            ],
            "text/html": [
              "\n",
              "  <div id=\"df-e0797f2c-b37e-4121-b2c9-edc1b3802354\">\n",
              "    <div class=\"colab-df-container\">\n",
              "      <div>\n",
              "<style scoped>\n",
              "    .dataframe tbody tr th:only-of-type {\n",
              "        vertical-align: middle;\n",
              "    }\n",
              "\n",
              "    .dataframe tbody tr th {\n",
              "        vertical-align: top;\n",
              "    }\n",
              "\n",
              "    .dataframe thead th {\n",
              "        text-align: right;\n",
              "    }\n",
              "</style>\n",
              "<table border=\"1\" class=\"dataframe\">\n",
              "  <thead>\n",
              "    <tr style=\"text-align: right;\">\n",
              "      <th></th>\n",
              "      <th>Unnamed: 0</th>\n",
              "      <th>airline</th>\n",
              "      <th>flight</th>\n",
              "      <th>source_city</th>\n",
              "      <th>departure_time</th>\n",
              "      <th>stops</th>\n",
              "      <th>arrival_time</th>\n",
              "      <th>destination_city</th>\n",
              "      <th>class</th>\n",
              "      <th>duration</th>\n",
              "      <th>days_left</th>\n",
              "      <th>price</th>\n",
              "    </tr>\n",
              "  </thead>\n",
              "  <tbody>\n",
              "    <tr>\n",
              "      <th>0</th>\n",
              "      <td>0</td>\n",
              "      <td>SpiceJet</td>\n",
              "      <td>SG-8709</td>\n",
              "      <td>Delhi</td>\n",
              "      <td>Evening</td>\n",
              "      <td>zero</td>\n",
              "      <td>Night</td>\n",
              "      <td>Mumbai</td>\n",
              "      <td>Economy</td>\n",
              "      <td>2.17</td>\n",
              "      <td>1</td>\n",
              "      <td>5953</td>\n",
              "    </tr>\n",
              "    <tr>\n",
              "      <th>1</th>\n",
              "      <td>1</td>\n",
              "      <td>SpiceJet</td>\n",
              "      <td>SG-8157</td>\n",
              "      <td>Delhi</td>\n",
              "      <td>Early_Morning</td>\n",
              "      <td>zero</td>\n",
              "      <td>Morning</td>\n",
              "      <td>Mumbai</td>\n",
              "      <td>Economy</td>\n",
              "      <td>2.33</td>\n",
              "      <td>1</td>\n",
              "      <td>5953</td>\n",
              "    </tr>\n",
              "    <tr>\n",
              "      <th>2</th>\n",
              "      <td>2</td>\n",
              "      <td>AirAsia</td>\n",
              "      <td>I5-764</td>\n",
              "      <td>Delhi</td>\n",
              "      <td>Early_Morning</td>\n",
              "      <td>zero</td>\n",
              "      <td>Early_Morning</td>\n",
              "      <td>Mumbai</td>\n",
              "      <td>Economy</td>\n",
              "      <td>2.17</td>\n",
              "      <td>1</td>\n",
              "      <td>5956</td>\n",
              "    </tr>\n",
              "    <tr>\n",
              "      <th>3</th>\n",
              "      <td>3</td>\n",
              "      <td>Vistara</td>\n",
              "      <td>UK-995</td>\n",
              "      <td>Delhi</td>\n",
              "      <td>Morning</td>\n",
              "      <td>zero</td>\n",
              "      <td>Afternoon</td>\n",
              "      <td>Mumbai</td>\n",
              "      <td>Economy</td>\n",
              "      <td>2.25</td>\n",
              "      <td>1</td>\n",
              "      <td>5955</td>\n",
              "    </tr>\n",
              "    <tr>\n",
              "      <th>4</th>\n",
              "      <td>4</td>\n",
              "      <td>Vistara</td>\n",
              "      <td>UK-963</td>\n",
              "      <td>Delhi</td>\n",
              "      <td>Morning</td>\n",
              "      <td>zero</td>\n",
              "      <td>Morning</td>\n",
              "      <td>Mumbai</td>\n",
              "      <td>Economy</td>\n",
              "      <td>2.33</td>\n",
              "      <td>1</td>\n",
              "      <td>5955</td>\n",
              "    </tr>\n",
              "    <tr>\n",
              "      <th>...</th>\n",
              "      <td>...</td>\n",
              "      <td>...</td>\n",
              "      <td>...</td>\n",
              "      <td>...</td>\n",
              "      <td>...</td>\n",
              "      <td>...</td>\n",
              "      <td>...</td>\n",
              "      <td>...</td>\n",
              "      <td>...</td>\n",
              "      <td>...</td>\n",
              "      <td>...</td>\n",
              "      <td>...</td>\n",
              "    </tr>\n",
              "    <tr>\n",
              "      <th>300148</th>\n",
              "      <td>300148</td>\n",
              "      <td>Vistara</td>\n",
              "      <td>UK-822</td>\n",
              "      <td>Chennai</td>\n",
              "      <td>Morning</td>\n",
              "      <td>one</td>\n",
              "      <td>Evening</td>\n",
              "      <td>Hyderabad</td>\n",
              "      <td>Business</td>\n",
              "      <td>10.08</td>\n",
              "      <td>49</td>\n",
              "      <td>69265</td>\n",
              "    </tr>\n",
              "    <tr>\n",
              "      <th>300149</th>\n",
              "      <td>300149</td>\n",
              "      <td>Vistara</td>\n",
              "      <td>UK-826</td>\n",
              "      <td>Chennai</td>\n",
              "      <td>Afternoon</td>\n",
              "      <td>one</td>\n",
              "      <td>Night</td>\n",
              "      <td>Hyderabad</td>\n",
              "      <td>Business</td>\n",
              "      <td>10.42</td>\n",
              "      <td>49</td>\n",
              "      <td>77105</td>\n",
              "    </tr>\n",
              "    <tr>\n",
              "      <th>300150</th>\n",
              "      <td>300150</td>\n",
              "      <td>Vistara</td>\n",
              "      <td>UK-832</td>\n",
              "      <td>Chennai</td>\n",
              "      <td>Early_Morning</td>\n",
              "      <td>one</td>\n",
              "      <td>Night</td>\n",
              "      <td>Hyderabad</td>\n",
              "      <td>Business</td>\n",
              "      <td>13.83</td>\n",
              "      <td>49</td>\n",
              "      <td>79099</td>\n",
              "    </tr>\n",
              "    <tr>\n",
              "      <th>300151</th>\n",
              "      <td>300151</td>\n",
              "      <td>Vistara</td>\n",
              "      <td>UK-828</td>\n",
              "      <td>Chennai</td>\n",
              "      <td>Early_Morning</td>\n",
              "      <td>one</td>\n",
              "      <td>Evening</td>\n",
              "      <td>Hyderabad</td>\n",
              "      <td>Business</td>\n",
              "      <td>10.00</td>\n",
              "      <td>49</td>\n",
              "      <td>81585</td>\n",
              "    </tr>\n",
              "    <tr>\n",
              "      <th>300152</th>\n",
              "      <td>300152</td>\n",
              "      <td>Vistara</td>\n",
              "      <td>UK-822</td>\n",
              "      <td>Chennai</td>\n",
              "      <td>Morning</td>\n",
              "      <td>one</td>\n",
              "      <td>Evening</td>\n",
              "      <td>Hyderabad</td>\n",
              "      <td>Business</td>\n",
              "      <td>10.08</td>\n",
              "      <td>49</td>\n",
              "      <td>81585</td>\n",
              "    </tr>\n",
              "  </tbody>\n",
              "</table>\n",
              "<p>300153 rows × 12 columns</p>\n",
              "</div>\n",
              "      <button class=\"colab-df-convert\" onclick=\"convertToInteractive('df-e0797f2c-b37e-4121-b2c9-edc1b3802354')\"\n",
              "              title=\"Convert this dataframe to an interactive table.\"\n",
              "              style=\"display:none;\">\n",
              "        \n",
              "  <svg xmlns=\"http://www.w3.org/2000/svg\" height=\"24px\"viewBox=\"0 0 24 24\"\n",
              "       width=\"24px\">\n",
              "    <path d=\"M0 0h24v24H0V0z\" fill=\"none\"/>\n",
              "    <path d=\"M18.56 5.44l.94 2.06.94-2.06 2.06-.94-2.06-.94-.94-2.06-.94 2.06-2.06.94zm-11 1L8.5 8.5l.94-2.06 2.06-.94-2.06-.94L8.5 2.5l-.94 2.06-2.06.94zm10 10l.94 2.06.94-2.06 2.06-.94-2.06-.94-.94-2.06-.94 2.06-2.06.94z\"/><path d=\"M17.41 7.96l-1.37-1.37c-.4-.4-.92-.59-1.43-.59-.52 0-1.04.2-1.43.59L10.3 9.45l-7.72 7.72c-.78.78-.78 2.05 0 2.83L4 21.41c.39.39.9.59 1.41.59.51 0 1.02-.2 1.41-.59l7.78-7.78 2.81-2.81c.8-.78.8-2.07 0-2.86zM5.41 20L4 18.59l7.72-7.72 1.47 1.35L5.41 20z\"/>\n",
              "  </svg>\n",
              "      </button>\n",
              "      \n",
              "  <style>\n",
              "    .colab-df-container {\n",
              "      display:flex;\n",
              "      flex-wrap:wrap;\n",
              "      gap: 12px;\n",
              "    }\n",
              "\n",
              "    .colab-df-convert {\n",
              "      background-color: #E8F0FE;\n",
              "      border: none;\n",
              "      border-radius: 50%;\n",
              "      cursor: pointer;\n",
              "      display: none;\n",
              "      fill: #1967D2;\n",
              "      height: 32px;\n",
              "      padding: 0 0 0 0;\n",
              "      width: 32px;\n",
              "    }\n",
              "\n",
              "    .colab-df-convert:hover {\n",
              "      background-color: #E2EBFA;\n",
              "      box-shadow: 0px 1px 2px rgba(60, 64, 67, 0.3), 0px 1px 3px 1px rgba(60, 64, 67, 0.15);\n",
              "      fill: #174EA6;\n",
              "    }\n",
              "\n",
              "    [theme=dark] .colab-df-convert {\n",
              "      background-color: #3B4455;\n",
              "      fill: #D2E3FC;\n",
              "    }\n",
              "\n",
              "    [theme=dark] .colab-df-convert:hover {\n",
              "      background-color: #434B5C;\n",
              "      box-shadow: 0px 1px 3px 1px rgba(0, 0, 0, 0.15);\n",
              "      filter: drop-shadow(0px 1px 2px rgba(0, 0, 0, 0.3));\n",
              "      fill: #FFFFFF;\n",
              "    }\n",
              "  </style>\n",
              "\n",
              "      <script>\n",
              "        const buttonEl =\n",
              "          document.querySelector('#df-e0797f2c-b37e-4121-b2c9-edc1b3802354 button.colab-df-convert');\n",
              "        buttonEl.style.display =\n",
              "          google.colab.kernel.accessAllowed ? 'block' : 'none';\n",
              "\n",
              "        async function convertToInteractive(key) {\n",
              "          const element = document.querySelector('#df-e0797f2c-b37e-4121-b2c9-edc1b3802354');\n",
              "          const dataTable =\n",
              "            await google.colab.kernel.invokeFunction('convertToInteractive',\n",
              "                                                     [key], {});\n",
              "          if (!dataTable) return;\n",
              "\n",
              "          const docLinkHtml = 'Like what you see? Visit the ' +\n",
              "            '<a target=\"_blank\" href=https://colab.research.google.com/notebooks/data_table.ipynb>data table notebook</a>'\n",
              "            + ' to learn more about interactive tables.';\n",
              "          element.innerHTML = '';\n",
              "          dataTable['output_type'] = 'display_data';\n",
              "          await google.colab.output.renderOutput(dataTable, element);\n",
              "          const docLink = document.createElement('div');\n",
              "          docLink.innerHTML = docLinkHtml;\n",
              "          element.appendChild(docLink);\n",
              "        }\n",
              "      </script>\n",
              "    </div>\n",
              "  </div>\n",
              "  "
            ]
          },
          "metadata": {},
          "execution_count": 3
        }
      ],
      "source": [
        "df"
      ]
    },
    {
      "cell_type": "code",
      "execution_count": 4,
      "id": "52a94236",
      "metadata": {
        "execution": {
          "iopub.execute_input": "2022-06-20T14:08:00.026163Z",
          "iopub.status.busy": "2022-06-20T14:08:00.025545Z",
          "iopub.status.idle": "2022-06-20T14:08:00.031180Z",
          "shell.execute_reply": "2022-06-20T14:08:00.030529Z"
        },
        "id": "52a94236",
        "outputId": "30fe19b6-ec75-41c9-def6-41d949ff8189",
        "papermill": {
          "duration": 0.021341,
          "end_time": "2022-06-20T14:08:00.033251",
          "exception": false,
          "start_time": "2022-06-20T14:08:00.011910",
          "status": "completed"
        },
        "tags": [],
        "colab": {
          "base_uri": "https://localhost:8080/"
        }
      },
      "outputs": [
        {
          "output_type": "execute_result",
          "data": {
            "text/plain": [
              "(300153, 12)"
            ]
          },
          "metadata": {},
          "execution_count": 4
        }
      ],
      "source": [
        "df.shape"
      ]
    },
    {
      "cell_type": "code",
      "execution_count": 5,
      "id": "f4f83817",
      "metadata": {
        "execution": {
          "iopub.execute_input": "2022-06-20T14:08:00.061381Z",
          "iopub.status.busy": "2022-06-20T14:08:00.060775Z",
          "iopub.status.idle": "2022-06-20T14:08:00.324690Z",
          "shell.execute_reply": "2022-06-20T14:08:00.323939Z"
        },
        "id": "f4f83817",
        "outputId": "3234f2a8-6edb-4dd2-c0ab-ce49d1f19e10",
        "papermill": {
          "duration": 0.280683,
          "end_time": "2022-06-20T14:08:00.326752",
          "exception": false,
          "start_time": "2022-06-20T14:08:00.046069",
          "status": "completed"
        },
        "tags": [],
        "colab": {
          "base_uri": "https://localhost:8080/"
        }
      },
      "outputs": [
        {
          "output_type": "execute_result",
          "data": {
            "text/plain": [
              "Unnamed: 0          0\n",
              "airline             0\n",
              "flight              0\n",
              "source_city         0\n",
              "departure_time      0\n",
              "stops               0\n",
              "arrival_time        0\n",
              "destination_city    0\n",
              "class               0\n",
              "duration            0\n",
              "days_left           0\n",
              "price               0\n",
              "dtype: int64"
            ]
          },
          "metadata": {},
          "execution_count": 5
        }
      ],
      "source": [
        "df.isna().sum()"
      ]
    },
    {
      "cell_type": "code",
      "execution_count": 6,
      "id": "fccd555d",
      "metadata": {
        "execution": {
          "iopub.execute_input": "2022-06-20T14:08:00.354542Z",
          "iopub.status.busy": "2022-06-20T14:08:00.354136Z",
          "iopub.status.idle": "2022-06-20T14:08:04.153444Z",
          "shell.execute_reply": "2022-06-20T14:08:04.152352Z"
        },
        "id": "fccd555d",
        "outputId": "31934b98-0f61-425a-d5cb-26d3fff96ea1",
        "papermill": {
          "duration": 3.815944,
          "end_time": "2022-06-20T14:08:04.155948",
          "exception": false,
          "start_time": "2022-06-20T14:08:00.340004",
          "status": "completed"
        },
        "tags": [],
        "colab": {
          "base_uri": "https://localhost:8080/",
          "height": 356
        }
      },
      "outputs": [
        {
          "output_type": "execute_result",
          "data": {
            "text/plain": [
              "<matplotlib.axes._subplots.AxesSubplot at 0x7fa752aef510>"
            ]
          },
          "metadata": {},
          "execution_count": 6
        },
        {
          "output_type": "display_data",
          "data": {
            "text/plain": [
              "<Figure size 432x288 with 2 Axes>"
            ],
            "image/png": "[encoded data removed]"
          },
          "metadata": {
            "needs_background": "light"
          }
        }
      ],
      "source": [
        "sns.heatmap(df.isnull(),yticklabels = False)"
      ]
    },
    {
      "cell_type": "code",
      "execution_count": 7,
      "id": "0c304265",
      "metadata": {
        "execution": {
          "iopub.execute_input": "2022-06-20T14:08:04.184979Z",
          "iopub.status.busy": "2022-06-20T14:08:04.184580Z",
          "iopub.status.idle": "2022-06-20T14:08:04.216051Z",
          "shell.execute_reply": "2022-06-20T14:08:04.214858Z"
        },
        "id": "0c304265",
        "papermill": {
          "duration": 0.049787,
          "end_time": "2022-06-20T14:08:04.219558",
          "exception": false,
          "start_time": "2022-06-20T14:08:04.169771",
          "status": "completed"
        },
        "tags": []
      },
      "outputs": [],
      "source": [
        "df.drop([\"Unnamed: 0\",\"flight\"],axis = 1,inplace = True)"
      ]
    },
    {
      "cell_type": "code",
      "execution_count": 8,
      "id": "4cfa8ddf",
      "metadata": {
        "execution": {
          "iopub.execute_input": "2022-06-20T14:08:04.248809Z",
          "iopub.status.busy": "2022-06-20T14:08:04.248385Z",
          "iopub.status.idle": "2022-06-20T14:08:04.269524Z",
          "shell.execute_reply": "2022-06-20T14:08:04.268537Z"
        },
        "id": "4cfa8ddf",
        "outputId": "c67942c2-9929-4103-9c30-d941b81c5857",
        "papermill": {
          "duration": 0.038982,
          "end_time": "2022-06-20T14:08:04.272811",
          "exception": false,
          "start_time": "2022-06-20T14:08:04.233829",
          "status": "completed"
        },
        "tags": [],
        "colab": {
          "base_uri": "https://localhost:8080/",
          "height": 424
        }
      },
      "outputs": [
        {
          "output_type": "execute_result",
          "data": {
            "text/plain": [
              "         airline source_city departure_time stops   arrival_time  \\\n",
              "0       SpiceJet       Delhi        Evening  zero          Night   \n",
              "1       SpiceJet       Delhi  Early_Morning  zero        Morning   \n",
              "2        AirAsia       Delhi  Early_Morning  zero  Early_Morning   \n",
              "3        Vistara       Delhi        Morning  zero      Afternoon   \n",
              "4        Vistara       Delhi        Morning  zero        Morning   \n",
              "...          ...         ...            ...   ...            ...   \n",
              "300148   Vistara     Chennai        Morning   one        Evening   \n",
              "300149   Vistara     Chennai      Afternoon   one          Night   \n",
              "300150   Vistara     Chennai  Early_Morning   one          Night   \n",
              "300151   Vistara     Chennai  Early_Morning   one        Evening   \n",
              "300152   Vistara     Chennai        Morning   one        Evening   \n",
              "\n",
              "       destination_city     class  duration  days_left  price  \n",
              "0                Mumbai   Economy      2.17          1   5953  \n",
              "1                Mumbai   Economy      2.33          1   5953  \n",
              "2                Mumbai   Economy      2.17          1   5956  \n",
              "3                Mumbai   Economy      2.25          1   5955  \n",
              "4                Mumbai   Economy      2.33          1   5955  \n",
              "...                 ...       ...       ...        ...    ...  \n",
              "300148        Hyderabad  Business     10.08         49  69265  \n",
              "300149        Hyderabad  Business     10.42         49  77105  \n",
              "300150        Hyderabad  Business     13.83         49  79099  \n",
              "300151        Hyderabad  Business     10.00         49  81585  \n",
              "300152        Hyderabad  Business     10.08         49  81585  \n",
              "\n",
              "[300153 rows x 10 columns]"
            ],
            "text/html": [
              "\n",
              "  <div id=\"df-c1a0275a-14e9-41d3-80dc-5176274da51e\">\n",
              "    <div class=\"colab-df-container\">\n",
              "      <div>\n",
              "<style scoped>\n",
              "    .dataframe tbody tr th:only-of-type {\n",
              "        vertical-align: middle;\n",
              "    }\n",
              "\n",
              "    .dataframe tbody tr th {\n",
              "        vertical-align: top;\n",
              "    }\n",
              "\n",
              "    .dataframe thead th {\n",
              "        text-align: right;\n",
              "    }\n",
              "</style>\n",
              "<table border=\"1\" class=\"dataframe\">\n",
              "  <thead>\n",
              "    <tr style=\"text-align: right;\">\n",
              "      <th></th>\n",
              "      <th>airline</th>\n",
              "      <th>source_city</th>\n",
              "      <th>departure_time</th>\n",
              "      <th>stops</th>\n",
              "      <th>arrival_time</th>\n",
              "      <th>destination_city</th>\n",
              "      <th>class</th>\n",
              "      <th>duration</th>\n",
              "      <th>days_left</th>\n",
              "      <th>price</th>\n",
              "    </tr>\n",
              "  </thead>\n",
              "  <tbody>\n",
              "    <tr>\n",
              "      <th>0</th>\n",
              "      <td>SpiceJet</td>\n",
              "      <td>Delhi</td>\n",
              "      <td>Evening</td>\n",
              "      <td>zero</td>\n",
              "      <td>Night</td>\n",
              "      <td>Mumbai</td>\n",
              "      <td>Economy</td>\n",
              "      <td>2.17</td>\n",
              "      <td>1</td>\n",
              "      <td>5953</td>\n",
              "    </tr>\n",
              "    <tr>\n",
              "      <th>1</th>\n",
              "      <td>SpiceJet</td>\n",
              "      <td>Delhi</td>\n",
              "      <td>Early_Morning</td>\n",
              "      <td>zero</td>\n",
              "      <td>Morning</td>\n",
              "      <td>Mumbai</td>\n",
              "      <td>Economy</td>\n",
              "      <td>2.33</td>\n",
              "      <td>1</td>\n",
              "      <td>5953</td>\n",
              "    </tr>\n",
              "    <tr>\n",
              "      <th>2</th>\n",
              "      <td>AirAsia</td>\n",
              "      <td>Delhi</td>\n",
              "      <td>Early_Morning</td>\n",
              "      <td>zero</td>\n",
              "      <td>Early_Morning</td>\n",
              "      <td>Mumbai</td>\n",
              "      <td>Economy</td>\n",
              "      <td>2.17</td>\n",
              "      <td>1</td>\n",
              "      <td>5956</td>\n",
              "    </tr>\n",
              "    <tr>\n",
              "      <th>3</th>\n",
              "      <td>Vistara</td>\n",
              "      <td>Delhi</td>\n",
              "      <td>Morning</td>\n",
              "      <td>zero</td>\n",
              "      <td>Afternoon</td>\n",
              "      <td>Mumbai</td>\n",
              "      <td>Economy</td>\n",
              "      <td>2.25</td>\n",
              "      <td>1</td>\n",
              "      <td>5955</td>\n",
              "    </tr>\n",
              "    <tr>\n",
              "      <th>4</th>\n",
              "      <td>Vistara</td>\n",
              "      <td>Delhi</td>\n",
              "      <td>Morning</td>\n",
              "      <td>zero</td>\n",
              "      <td>Morning</td>\n",
              "      <td>Mumbai</td>\n",
              "      <td>Economy</td>\n",
              "      <td>2.33</td>\n",
              "      <td>1</td>\n",
              "      <td>5955</td>\n",
              "    </tr>\n",
              "    <tr>\n",
              "      <th>...</th>\n",
              "      <td>...</td>\n",
              "      <td>...</td>\n",
              "      <td>...</td>\n",
              "      <td>...</td>\n",
              "      <td>...</td>\n",
              "      <td>...</td>\n",
              "      <td>...</td>\n",
              "      <td>...</td>\n",
              "      <td>...</td>\n",
              "      <td>...</td>\n",
              "    </tr>\n",
              "    <tr>\n",
              "      <th>300148</th>\n",
              "      <td>Vistara</td>\n",
              "      <td>Chennai</td>\n",
              "      <td>Morning</td>\n",
              "      <td>one</td>\n",
              "      <td>Evening</td>\n",
              "      <td>Hyderabad</td>\n",
              "      <td>Business</td>\n",
              "      <td>10.08</td>\n",
              "      <td>49</td>\n",
              "      <td>69265</td>\n",
              "    </tr>\n",
              "    <tr>\n",
              "      <th>300149</th>\n",
              "      <td>Vistara</td>\n",
              "      <td>Chennai</td>\n",
              "      <td>Afternoon</td>\n",
              "      <td>one</td>\n",
              "      <td>Night</td>\n",
              "      <td>Hyderabad</td>\n",
              "      <td>Business</td>\n",
              "      <td>10.42</td>\n",
              "      <td>49</td>\n",
              "      <td>77105</td>\n",
              "    </tr>\n",
              "    <tr>\n",
              "      <th>300150</th>\n",
              "      <td>Vistara</td>\n",
              "      <td>Chennai</td>\n",
              "      <td>Early_Morning</td>\n",
              "      <td>one</td>\n",
              "      <td>Night</td>\n",
              "      <td>Hyderabad</td>\n",
              "      <td>Business</td>\n",
              "      <td>13.83</td>\n",
              "      <td>49</td>\n",
              "      <td>79099</td>\n",
              "    </tr>\n",
              "    <tr>\n",
              "      <th>300151</th>\n",
              "      <td>Vistara</td>\n",
              "      <td>Chennai</td>\n",
              "      <td>Early_Morning</td>\n",
              "      <td>one</td>\n",
              "      <td>Evening</td>\n",
              "      <td>Hyderabad</td>\n",
              "      <td>Business</td>\n",
              "      <td>10.00</td>\n",
              "      <td>49</td>\n",
              "      <td>81585</td>\n",
              "    </tr>\n",
              "    <tr>\n",
              "      <th>300152</th>\n",
              "      <td>Vistara</td>\n",
              "      <td>Chennai</td>\n",
              "      <td>Morning</td>\n",
              "      <td>one</td>\n",
              "      <td>Evening</td>\n",
              "      <td>Hyderabad</td>\n",
              "      <td>Business</td>\n",
              "      <td>10.08</td>\n",
              "      <td>49</td>\n",
              "      <td>81585</td>\n",
              "    </tr>\n",
              "  </tbody>\n",
              "</table>\n",
              "<p>300153 rows × 10 columns</p>\n",
              "</div>\n",
              "      <button class=\"colab-df-convert\" onclick=\"convertToInteractive('df-c1a0275a-14e9-41d3-80dc-5176274da51e')\"\n",
              "              title=\"Convert this dataframe to an interactive table.\"\n",
              "              style=\"display:none;\">\n",
              "        \n",
              "  <svg xmlns=\"http://www.w3.org/2000/svg\" height=\"24px\"viewBox=\"0 0 24 24\"\n",
              "       width=\"24px\">\n",
              "    <path d=\"M0 0h24v24H0V0z\" fill=\"none\"/>\n",
              "    <path d=\"M18.56 5.44l.94 2.06.94-2.06 2.06-.94-2.06-.94-.94-2.06-.94 2.06-2.06.94zm-11 1L8.5 8.5l.94-2.06 2.06-.94-2.06-.94L8.5 2.5l-.94 2.06-2.06.94zm10 10l.94 2.06.94-2.06 2.06-.94-2.06-.94-.94-2.06-.94 2.06-2.06.94z\"/><path d=\"M17.41 7.96l-1.37-1.37c-.4-.4-.92-.59-1.43-.59-.52 0-1.04.2-1.43.59L10.3 9.45l-7.72 7.72c-.78.78-.78 2.05 0 2.83L4 21.41c.39.39.9.59 1.41.59.51 0 1.02-.2 1.41-.59l7.78-7.78 2.81-2.81c.8-.78.8-2.07 0-2.86zM5.41 20L4 18.59l7.72-7.72 1.47 1.35L5.41 20z\"/>\n",
              "  </svg>\n",
              "      </button>\n",
              "      \n",
              "  <style>\n",
              "    .colab-df-container {\n",
              "      display:flex;\n",
              "      flex-wrap:wrap;\n",
              "      gap: 12px;\n",
              "    }\n",
              "\n",
              "    .colab-df-convert {\n",
              "      background-color: #E8F0FE;\n",
              "      border: none;\n",
              "      border-radius: 50%;\n",
              "      cursor: pointer;\n",
              "      display: none;\n",
              "      fill: #1967D2;\n",
              "      height: 32px;\n",
              "      padding: 0 0 0 0;\n",
              "      width: 32px;\n",
              "    }\n",
              "\n",
              "    .colab-df-convert:hover {\n",
              "      background-color: #E2EBFA;\n",
              "      box-shadow: 0px 1px 2px rgba(60, 64, 67, 0.3), 0px 1px 3px 1px rgba(60, 64, 67, 0.15);\n",
              "      fill: #174EA6;\n",
              "    }\n",
              "\n",
              "    [theme=dark] .colab-df-convert {\n",
              "      background-color: #3B4455;\n",
              "      fill: #D2E3FC;\n",
              "    }\n",
              "\n",
              "    [theme=dark] .colab-df-convert:hover {\n",
              "      background-color: #434B5C;\n",
              "      box-shadow: 0px 1px 3px 1px rgba(0, 0, 0, 0.15);\n",
              "      filter: drop-shadow(0px 1px 2px rgba(0, 0, 0, 0.3));\n",
              "      fill: #FFFFFF;\n",
              "    }\n",
              "  </style>\n",
              "\n",
              "      <script>\n",
              "        const buttonEl =\n",
              "          document.querySelector('#df-c1a0275a-14e9-41d3-80dc-5176274da51e button.colab-df-convert');\n",
              "        buttonEl.style.display =\n",
              "          google.colab.kernel.accessAllowed ? 'block' : 'none';\n",
              "\n",
              "        async function convertToInteractive(key) {\n",
              "          const element = document.querySelector('#df-c1a0275a-14e9-41d3-80dc-5176274da51e');\n",
              "          const dataTable =\n",
              "            await google.colab.kernel.invokeFunction('convertToInteractive',\n",
              "                                                     [key], {});\n",
              "          if (!dataTable) return;\n",
              "\n",
              "          const docLinkHtml = 'Like what you see? Visit the ' +\n",
              "            '<a target=\"_blank\" href=https://colab.research.google.com/notebooks/data_table.ipynb>data table notebook</a>'\n",
              "            + ' to learn more about interactive tables.';\n",
              "          element.innerHTML = '';\n",
              "          dataTable['output_type'] = 'display_data';\n",
              "          await google.colab.output.renderOutput(dataTable, element);\n",
              "          const docLink = document.createElement('div');\n",
              "          docLink.innerHTML = docLinkHtml;\n",
              "          element.appendChild(docLink);\n",
              "        }\n",
              "      </script>\n",
              "    </div>\n",
              "  </div>\n",
              "  "
            ]
          },
          "metadata": {},
          "execution_count": 8
        }
      ],
      "source": [
        "df"
      ]
    },
    {
      "cell_type": "code",
      "execution_count": 9,
      "id": "8d85f784",
      "metadata": {
        "execution": {
          "iopub.execute_input": "2022-06-20T14:08:04.302770Z",
          "iopub.status.busy": "2022-06-20T14:08:04.302368Z",
          "iopub.status.idle": "2022-06-20T14:08:04.358535Z",
          "shell.execute_reply": "2022-06-20T14:08:04.357485Z"
        },
        "id": "8d85f784",
        "outputId": "745c56be-58b1-4b51-ad99-a8156b49646b",
        "papermill": {
          "duration": 0.073815,
          "end_time": "2022-06-20T14:08:04.360727",
          "exception": false,
          "start_time": "2022-06-20T14:08:04.286912",
          "status": "completed"
        },
        "tags": [],
        "colab": {
          "base_uri": "https://localhost:8080/"
        }
      },
      "outputs": [
        {
          "output_type": "execute_result",
          "data": {
            "text/plain": [
              "Vistara      127859\n",
              "Air_India     80892\n",
              "Indigo        43120\n",
              "GO_FIRST      23173\n",
              "AirAsia       16098\n",
              "SpiceJet       9011\n",
              "Name: airline, dtype: int64"
            ]
          },
          "metadata": {},
          "execution_count": 9
        }
      ],
      "source": [
        "df[\"airline\"].value_counts()"
      ]
    },
    {
      "cell_type": "code",
      "execution_count": 10,
      "id": "197ec75d",
      "metadata": {
        "execution": {
          "iopub.execute_input": "2022-06-20T14:08:04.390195Z",
          "iopub.status.busy": "2022-06-20T14:08:04.389805Z",
          "iopub.status.idle": "2022-06-20T14:08:04.938633Z",
          "shell.execute_reply": "2022-06-20T14:08:04.937385Z"
        },
        "id": "197ec75d",
        "outputId": "bccfe8a3-deec-4682-8134-a9f63031a3b5",
        "papermill": {
          "duration": 0.567919,
          "end_time": "2022-06-20T14:08:04.942369",
          "exception": false,
          "start_time": "2022-06-20T14:08:04.374450",
          "status": "completed"
        },
        "tags": [],
        "colab": {
          "base_uri": "https://localhost:8080/",
          "height": 297
        }
      },
      "outputs": [
        {
          "output_type": "execute_result",
          "data": {
            "text/plain": [
              "<matplotlib.axes._subplots.AxesSubplot at 0x7fa752ae15d0>"
            ]
          },
          "metadata": {},
          "execution_count": 10
        },
        {
          "output_type": "display_data",
          "data": {
            "text/plain": [
              "<Figure size 432x288 with 1 Axes>"
            ],
            "image/png": "[encoded data removed]"
          },
          "metadata": {
            "needs_background": "light"
          }
        }
      ],
      "source": [
        "sns.countplot(x = \"airline\",data = df)"
      ]
    },
    {
      "cell_type": "code",
      "execution_count": 11,
      "id": "179116b2",
      "metadata": {
        "execution": {
          "iopub.execute_input": "2022-06-20T14:08:04.974930Z",
          "iopub.status.busy": "2022-06-20T14:08:04.974137Z",
          "iopub.status.idle": "2022-06-20T14:08:09.395207Z",
          "shell.execute_reply": "2022-06-20T14:08:09.394354Z"
        },
        "id": "179116b2",
        "outputId": "02f7513d-06ca-47e4-99bb-e072b25b0cdf",
        "papermill": {
          "duration": 4.440303,
          "end_time": "2022-06-20T14:08:09.397491",
          "exception": false,
          "start_time": "2022-06-20T14:08:04.957188",
          "status": "completed"
        },
        "tags": [],
        "colab": {
          "base_uri": "https://localhost:8080/",
          "height": 297
        }
      },
      "outputs": [
        {
          "output_type": "execute_result",
          "data": {
            "text/plain": [
              "<matplotlib.axes._subplots.AxesSubplot at 0x7fa74fcee2d0>"
            ]
          },
          "metadata": {},
          "execution_count": 11
        },
        {
          "output_type": "display_data",
          "data": {
            "text/plain": [
              "<Figure size 432x288 with 1 Axes>"
            ],
            "image/png": "[encoded data removed]"
          },
          "metadata": {
            "needs_background": "light"
          }
        }
      ],
      "source": [
        "sns.barplot(x = \"airline\",y = \"price\",data = df)"
      ]
    },
    {
      "cell_type": "code",
      "execution_count": 12,
      "id": "6cf56e2c",
      "metadata": {
        "execution": {
          "iopub.execute_input": "2022-06-20T14:08:09.428634Z",
          "iopub.status.busy": "2022-06-20T14:08:09.428227Z",
          "iopub.status.idle": "2022-06-20T14:08:09.437816Z",
          "shell.execute_reply": "2022-06-20T14:08:09.436793Z"
        },
        "id": "6cf56e2c",
        "outputId": "b765e8a1-2d4f-4dc5-eb3a-86a2463d4583",
        "papermill": {
          "duration": 0.027758,
          "end_time": "2022-06-20T14:08:09.440080",
          "exception": false,
          "start_time": "2022-06-20T14:08:09.412322",
          "status": "completed"
        },
        "tags": [],
        "colab": {
          "base_uri": "https://localhost:8080/"
        }
      },
      "outputs": [
        {
          "output_type": "execute_result",
          "data": {
            "text/plain": [
              "Index(['airline', 'source_city', 'departure_time', 'stops', 'arrival_time',\n",
              "       'destination_city', 'class', 'duration', 'days_left', 'price'],\n",
              "      dtype='object')"
            ]
          },
          "metadata": {},
          "execution_count": 12
        }
      ],
      "source": [
        "df.columns"
      ]
    },
    {
      "cell_type": "code",
      "execution_count": 13,
      "id": "d7424619",
      "metadata": {
        "execution": {
          "iopub.execute_input": "2022-06-20T14:08:09.470773Z",
          "iopub.status.busy": "2022-06-20T14:08:09.470364Z",
          "iopub.status.idle": "2022-06-20T14:08:09.475046Z",
          "shell.execute_reply": "2022-06-20T14:08:09.473912Z"
        },
        "id": "d7424619",
        "papermill": {
          "duration": 0.023383,
          "end_time": "2022-06-20T14:08:09.477962",
          "exception": false,
          "start_time": "2022-06-20T14:08:09.454579",
          "status": "completed"
        },
        "tags": []
      },
      "outputs": [],
      "source": [
        "cols = ['airline', 'source_city', 'departure_time', 'stops', 'arrival_time',\n",
        "       'destination_city', 'class']"
      ]
    },
    {
      "cell_type": "code",
      "execution_count": 14,
      "id": "abf55b67",
      "metadata": {
        "execution": {
          "iopub.execute_input": "2022-06-20T14:08:09.509893Z",
          "iopub.status.busy": "2022-06-20T14:08:09.509468Z",
          "iopub.status.idle": "2022-06-20T14:08:13.232287Z",
          "shell.execute_reply": "2022-06-20T14:08:13.231267Z"
        },
        "id": "abf55b67",
        "outputId": "98872db9-c048-4d23-e592-ca1de5ce9fbc",
        "papermill": {
          "duration": 3.741139,
          "end_time": "2022-06-20T14:08:13.234544",
          "exception": false,
          "start_time": "2022-06-20T14:08:09.493405",
          "status": "completed"
        },
        "tags": [],
        "colab": {
          "base_uri": "https://localhost:8080/",
          "height": 1000
        }
      },
      "outputs": [
        {
          "output_type": "display_data",
          "data": {
            "text/plain": [
              "<Figure size 720x720 with 1 Axes>"
            ],
            "image/png": "[encoded data removed]"
          },
          "metadata": {
            "needs_background": "light"
          }
        },
        {
          "output_type": "display_data",
          "data": {
            "text/plain": [
              "<Figure size 720x720 with 1 Axes>"
            ],
            "image/png": "[encoded data removed]"
          },
          "metadata": {
            "needs_background": "light"
          }
        },
        {
          "output_type": "display_data",
          "data": {
            "text/plain": [
              "<Figure size 720x720 with 1 Axes>"
            ],
            "image/png": "[encoded data removed]"
          },
          "metadata": {
            "needs_background": "light"
          }
        },
        {
          "output_type": "display_data",
          "data": {
            "text/plain": [
              "<Figure size 720x720 with 1 Axes>"
            ],
            "image/png": "[encoded data removed]"
          },
          "metadata": {
            "needs_background": "light"
          }
        },
        {
          "output_type": "display_data",
          "data": {
            "text/plain": [
              "<Figure size 720x720 with 1 Axes>"
            ],
            "image/png": "[encoded data removed]"
          },
          "metadata": {
            "needs_background": "light"
          }
        },
        {
          "output_type": "display_data",
          "data": {
            "text/plain": [
              "<Figure size 720x720 with 1 Axes>"
            ],
            "image/png": "[encoded data removed]"
          },
          "metadata": {
            "needs_background": "light"
          }
        },
        {
          "output_type": "display_data",
          "data": {
            "text/plain": [
              "<Figure size 720x720 with 1 Axes>"
            ],
            "image/png": "[encoded data removed]"
          },
          "metadata": {
            "needs_background": "light"
          }
        }
      ],
      "source": [
        "for i in range(0,len(cols)):\n",
        "  plt.figure(figsize = (10,10))\n",
        "  sns.countplot(x = cols[i],data = df)"
      ]
    },
    {
      "cell_type": "code",
      "execution_count": 15,
      "id": "7a53cfdc",
      "metadata": {
        "execution": {
          "iopub.execute_input": "2022-06-20T14:08:13.271334Z",
          "iopub.status.busy": "2022-06-20T14:08:13.270677Z",
          "iopub.status.idle": "2022-06-20T14:08:44.000743Z",
          "shell.execute_reply": "2022-06-20T14:08:43.999264Z"
        },
        "id": "7a53cfdc",
        "outputId": "d00a89f5-3a8b-47ef-d9a2-16001fda310f",
        "papermill": {
          "duration": 30.75077,
          "end_time": "2022-06-20T14:08:44.003492",
          "exception": false,
          "start_time": "2022-06-20T14:08:13.252722",
          "status": "completed"
        },
        "tags": [],
        "colab": {
          "base_uri": "https://localhost:8080/",
          "height": 1000
        }
      },
      "outputs": [
        {
          "output_type": "display_data",
          "data": {
            "text/plain": [
              "<Figure size 720x720 with 1 Axes>"
            ],
            "image/png": "[encoded data removed]"
          },
          "metadata": {
            "needs_background": "light"
          }
        },
        {
          "output_type": "display_data",
          "data": {
            "text/plain": [
              "<Figure size 720x720 with 1 Axes>"
            ],
            "image/png": "[encoded data removed]"
          },
          "metadata": {
            "needs_background": "light"
          }
        },
        {
          "output_type": "display_data",
          "data": {
            "text/plain": [
              "<Figure size 720x720 with 1 Axes>"
            ],
            "image/png": "[encoded data removed]"
          },
          "metadata": {
            "needs_background": "light"
          }
        },
        {
          "output_type": "display_data",
          "data": {
            "text/plain": [
              "<Figure size 720x720 with 1 Axes>"
            ],
            "image/png": "[encoded data removed]"
          },
          "metadata": {
            "needs_background": "light"
          }
        },
        {
          "output_type": "display_data",
          "data": {
            "text/plain": [
              "<Figure size 720x720 with 1 Axes>"
            ],
            "image/png": "[encoded data removed]"
          },
          "metadata": {
            "needs_background": "light"
          }
        },
        {
          "output_type": "display_data",
          "data": {
            "text/plain": [
              "<Figure size 720x720 with 1 Axes>"
            ],
            "image/png": "[encoded data removed]"
          },
          "metadata": {
            "needs_background": "light"
          }
        },
        {
          "output_type": "display_data",
          "data": {
            "text/plain": [
              "<Figure size 720x720 with 1 Axes>"
            ],
            "image/png": "[encoded data removed]"
          },
          "metadata": {
            "needs_background": "light"
          }
        }
      ],
      "source": [
        "for i in range(0,len(cols)):\n",
        "  plt.figure(figsize = (10,10))\n",
        "  sns.barplot(x = cols[i],y = \"price\",data = df)"
      ]
    },
    {
      "cell_type": "code",
      "execution_count": 16,
      "id": "dc5cc54a",
      "metadata": {
        "execution": {
          "iopub.execute_input": "2022-06-20T14:08:44.043346Z",
          "iopub.status.busy": "2022-06-20T14:08:44.042901Z",
          "iopub.status.idle": "2022-06-20T14:08:44.047156Z",
          "shell.execute_reply": "2022-06-20T14:08:44.046231Z"
        },
        "id": "dc5cc54a",
        "papermill": {
          "duration": 0.027308,
          "end_time": "2022-06-20T14:08:44.049492",
          "exception": false,
          "start_time": "2022-06-20T14:08:44.022184",
          "status": "completed"
        },
        "tags": []
      },
      "outputs": [],
      "source": [
        "d = df"
      ]
    },
    {
      "cell_type": "code",
      "execution_count": 16,
      "id": "e4d20316",
      "metadata": {
        "id": "e4d20316",
        "papermill": {
          "duration": 0.018431,
          "end_time": "2022-06-20T14:08:44.087022",
          "exception": false,
          "start_time": "2022-06-20T14:08:44.068591",
          "status": "completed"
        },
        "tags": []
      },
      "outputs": [],
      "source": [
        ""
      ]
    },
    {
      "cell_type": "code",
      "execution_count": 17,
      "id": "f22fada9",
      "metadata": {
        "execution": {
          "iopub.execute_input": "2022-06-20T14:08:44.126494Z",
          "iopub.status.busy": "2022-06-20T14:08:44.126064Z",
          "iopub.status.idle": "2022-06-20T14:08:44.393348Z",
          "shell.execute_reply": "2022-06-20T14:08:44.392080Z"
        },
        "id": "f22fada9",
        "papermill": {
          "duration": 0.289801,
          "end_time": "2022-06-20T14:08:44.395774",
          "exception": false,
          "start_time": "2022-06-20T14:08:44.105973",
          "status": "completed"
        },
        "tags": []
      },
      "outputs": [],
      "source": [
        "df1 = pd.get_dummies(d)"
      ]
    },
    {
      "cell_type": "code",
      "execution_count": 18,
      "id": "e57bcc79",
      "metadata": {
        "execution": {
          "iopub.execute_input": "2022-06-20T14:08:44.436018Z",
          "iopub.status.busy": "2022-06-20T14:08:44.435600Z",
          "iopub.status.idle": "2022-06-20T14:08:44.456902Z",
          "shell.execute_reply": "2022-06-20T14:08:44.455962Z"
        },
        "id": "e57bcc79",
        "outputId": "4c9f2519-e6f5-4aa0-fe52-7ce8305b30a2",
        "papermill": {
          "duration": 0.044481,
          "end_time": "2022-06-20T14:08:44.459269",
          "exception": false,
          "start_time": "2022-06-20T14:08:44.414788",
          "status": "completed"
        },
        "tags": [],
        "colab": {
          "base_uri": "https://localhost:8080/",
          "height": 299
        }
      },
      "outputs": [
        {
          "output_type": "execute_result",
          "data": {
            "text/plain": [
              "   duration  days_left  price  airline_AirAsia  airline_Air_India  \\\n",
              "0      2.17          1   5953                0                  0   \n",
              "1      2.33          1   5953                0                  0   \n",
              "2      2.17          1   5956                1                  0   \n",
              "3      2.25          1   5955                0                  0   \n",
              "4      2.33          1   5955                0                  0   \n",
              "\n",
              "   airline_GO_FIRST  airline_Indigo  airline_SpiceJet  airline_Vistara  \\\n",
              "0                 0               0                 1                0   \n",
              "1                 0               0                 1                0   \n",
              "2                 0               0                 0                0   \n",
              "3                 0               0                 0                1   \n",
              "4                 0               0                 0                1   \n",
              "\n",
              "   source_city_Bangalore  ...  arrival_time_Morning  arrival_time_Night  \\\n",
              "0                      0  ...                     0                   1   \n",
              "1                      0  ...                     1                   0   \n",
              "2                      0  ...                     0                   0   \n",
              "3                      0  ...                     0                   0   \n",
              "4                      0  ...                     1                   0   \n",
              "\n",
              "   destination_city_Bangalore  destination_city_Chennai  \\\n",
              "0                           0                         0   \n",
              "1                           0                         0   \n",
              "2                           0                         0   \n",
              "3                           0                         0   \n",
              "4                           0                         0   \n",
              "\n",
              "   destination_city_Delhi  destination_city_Hyderabad  \\\n",
              "0                       0                           0   \n",
              "1                       0                           0   \n",
              "2                       0                           0   \n",
              "3                       0                           0   \n",
              "4                       0                           0   \n",
              "\n",
              "   destination_city_Kolkata  destination_city_Mumbai  class_Business  \\\n",
              "0                         0                        1               0   \n",
              "1                         0                        1               0   \n",
              "2                         0                        1               0   \n",
              "3                         0                        1               0   \n",
              "4                         0                        1               0   \n",
              "\n",
              "   class_Economy  \n",
              "0              1  \n",
              "1              1  \n",
              "2              1  \n",
              "3              1  \n",
              "4              1  \n",
              "\n",
              "[5 rows x 38 columns]"
            ],
            "text/html": [
              "\n",
              "  <div id=\"df-337670c3-4e8f-4383-a54a-f4986039c382\">\n",
              "    <div class=\"colab-df-container\">\n",
              "      <div>\n",
              "<style scoped>\n",
              "    .dataframe tbody tr th:only-of-type {\n",
              "        vertical-align: middle;\n",
              "    }\n",
              "\n",
              "    .dataframe tbody tr th {\n",
              "        vertical-align: top;\n",
              "    }\n",
              "\n",
              "    .dataframe thead th {\n",
              "        text-align: right;\n",
              "    }\n",
              "</style>\n",
              "<table border=\"1\" class=\"dataframe\">\n",
              "  <thead>\n",
              "    <tr style=\"text-align: right;\">\n",
              "      <th></th>\n",
              "      <th>duration</th>\n",
              "      <th>days_left</th>\n",
              "      <th>price</th>\n",
              "      <th>airline_AirAsia</th>\n",
              "      <th>airline_Air_India</th>\n",
              "      <th>airline_GO_FIRST</th>\n",
              "      <th>airline_Indigo</th>\n",
              "      <th>airline_SpiceJet</th>\n",
              "      <th>airline_Vistara</th>\n",
              "      <th>source_city_Bangalore</th>\n",
              "      <th>...</th>\n",
              "      <th>arrival_time_Morning</th>\n",
              "      <th>arrival_time_Night</th>\n",
              "      <th>destination_city_Bangalore</th>\n",
              "      <th>destination_city_Chennai</th>\n",
              "      <th>destination_city_Delhi</th>\n",
              "      <th>destination_city_Hyderabad</th>\n",
              "      <th>destination_city_Kolkata</th>\n",
              "      <th>destination_city_Mumbai</th>\n",
              "      <th>class_Business</th>\n",
              "      <th>class_Economy</th>\n",
              "    </tr>\n",
              "  </thead>\n",
              "  <tbody>\n",
              "    <tr>\n",
              "      <th>0</th>\n",
              "      <td>2.17</td>\n",
              "      <td>1</td>\n",
              "      <td>5953</td>\n",
              "      <td>0</td>\n",
              "      <td>0</td>\n",
              "      <td>0</td>\n",
              "      <td>0</td>\n",
              "      <td>1</td>\n",
              "      <td>0</td>\n",
              "      <td>0</td>\n",
              "      <td>...</td>\n",
              "      <td>0</td>\n",
              "      <td>1</td>\n",
              "      <td>0</td>\n",
              "      <td>0</td>\n",
              "      <td>0</td>\n",
              "      <td>0</td>\n",
              "      <td>0</td>\n",
              "      <td>1</td>\n",
              "      <td>0</td>\n",
              "      <td>1</td>\n",
              "    </tr>\n",
              "    <tr>\n",
              "      <th>1</th>\n",
              "      <td>2.33</td>\n",
              "      <td>1</td>\n",
              "      <td>5953</td>\n",
              "      <td>0</td>\n",
              "      <td>0</td>\n",
              "      <td>0</td>\n",
              "      <td>0</td>\n",
              "      <td>1</td>\n",
              "      <td>0</td>\n",
              "      <td>0</td>\n",
              "      <td>...</td>\n",
              "      <td>1</td>\n",
              "      <td>0</td>\n",
              "      <td>0</td>\n",
              "      <td>0</td>\n",
              "      <td>0</td>\n",
              "      <td>0</td>\n",
              "      <td>0</td>\n",
              "      <td>1</td>\n",
              "      <td>0</td>\n",
              "      <td>1</td>\n",
              "    </tr>\n",
              "    <tr>\n",
              "      <th>2</th>\n",
              "      <td>2.17</td>\n",
              "      <td>1</td>\n",
              "      <td>5956</td>\n",
              "      <td>1</td>\n",
              "      <td>0</td>\n",
              "      <td>0</td>\n",
              "      <td>0</td>\n",
              "      <td>0</td>\n",
              "      <td>0</td>\n",
              "      <td>0</td>\n",
              "      <td>...</td>\n",
              "      <td>0</td>\n",
              "      <td>0</td>\n",
              "      <td>0</td>\n",
              "      <td>0</td>\n",
              "      <td>0</td>\n",
              "      <td>0</td>\n",
              "      <td>0</td>\n",
              "      <td>1</td>\n",
              "      <td>0</td>\n",
              "      <td>1</td>\n",
              "    </tr>\n",
              "    <tr>\n",
              "      <th>3</th>\n",
              "      <td>2.25</td>\n",
              "      <td>1</td>\n",
              "      <td>5955</td>\n",
              "      <td>0</td>\n",
              "      <td>0</td>\n",
              "      <td>0</td>\n",
              "      <td>0</td>\n",
              "      <td>0</td>\n",
              "      <td>1</td>\n",
              "      <td>0</td>\n",
              "      <td>...</td>\n",
              "      <td>0</td>\n",
              "      <td>0</td>\n",
              "      <td>0</td>\n",
              "      <td>0</td>\n",
              "      <td>0</td>\n",
              "      <td>0</td>\n",
              "      <td>0</td>\n",
              "      <td>1</td>\n",
              "      <td>0</td>\n",
              "      <td>1</td>\n",
              "    </tr>\n",
              "    <tr>\n",
              "      <th>4</th>\n",
              "      <td>2.33</td>\n",
              "      <td>1</td>\n",
              "      <td>5955</td>\n",
              "      <td>0</td>\n",
              "      <td>0</td>\n",
              "      <td>0</td>\n",
              "      <td>0</td>\n",
              "      <td>0</td>\n",
              "      <td>1</td>\n",
              "      <td>0</td>\n",
              "      <td>...</td>\n",
              "      <td>1</td>\n",
              "      <td>0</td>\n",
              "      <td>0</td>\n",
              "      <td>0</td>\n",
              "      <td>0</td>\n",
              "      <td>0</td>\n",
              "      <td>0</td>\n",
              "      <td>1</td>\n",
              "      <td>0</td>\n",
              "      <td>1</td>\n",
              "    </tr>\n",
              "  </tbody>\n",
              "</table>\n",
              "<p>5 rows × 38 columns</p>\n",
              "</div>\n",
              "      <button class=\"colab-df-convert\" onclick=\"convertToInteractive('df-337670c3-4e8f-4383-a54a-f4986039c382')\"\n",
              "              title=\"Convert this dataframe to an interactive table.\"\n",
              "              style=\"display:none;\">\n",
              "        \n",
              "  <svg xmlns=\"http://www.w3.org/2000/svg\" height=\"24px\"viewBox=\"0 0 24 24\"\n",
              "       width=\"24px\">\n",
              "    <path d=\"M0 0h24v24H0V0z\" fill=\"none\"/>\n",
              "    <path d=\"M18.56 5.44l.94 2.06.94-2.06 2.06-.94-2.06-.94-.94-2.06-.94 2.06-2.06.94zm-11 1L8.5 8.5l.94-2.06 2.06-.94-2.06-.94L8.5 2.5l-.94 2.06-2.06.94zm10 10l.94 2.06.94-2.06 2.06-.94-2.06-.94-.94-2.06-.94 2.06-2.06.94z\"/><path d=\"M17.41 7.96l-1.37-1.37c-.4-.4-.92-.59-1.43-.59-.52 0-1.04.2-1.43.59L10.3 9.45l-7.72 7.72c-.78.78-.78 2.05 0 2.83L4 21.41c.39.39.9.59 1.41.59.51 0 1.02-.2 1.41-.59l7.78-7.78 2.81-2.81c.8-.78.8-2.07 0-2.86zM5.41 20L4 18.59l7.72-7.72 1.47 1.35L5.41 20z\"/>\n",
              "  </svg>\n",
              "      </button>\n",
              "      \n",
              "  <style>\n",
              "    .colab-df-container {\n",
              "      display:flex;\n",
              "      flex-wrap:wrap;\n",
              "      gap: 12px;\n",
              "    }\n",
              "\n",
              "    .colab-df-convert {\n",
              "      background-color: #E8F0FE;\n",
              "      border: none;\n",
              "      border-radius: 50%;\n",
              "      cursor: pointer;\n",
              "      display: none;\n",
              "      fill: #1967D2;\n",
              "      height: 32px;\n",
              "      padding: 0 0 0 0;\n",
              "      width: 32px;\n",
              "    }\n",
              "\n",
              "    .colab-df-convert:hover {\n",
              "      background-color: #E2EBFA;\n",
              "      box-shadow: 0px 1px 2px rgba(60, 64, 67, 0.3), 0px 1px 3px 1px rgba(60, 64, 67, 0.15);\n",
              "      fill: #174EA6;\n",
              "    }\n",
              "\n",
              "    [theme=dark] .colab-df-convert {\n",
              "      background-color: #3B4455;\n",
              "      fill: #D2E3FC;\n",
              "    }\n",
              "\n",
              "    [theme=dark] .colab-df-convert:hover {\n",
              "      background-color: #434B5C;\n",
              "      box-shadow: 0px 1px 3px 1px rgba(0, 0, 0, 0.15);\n",
              "      filter: drop-shadow(0px 1px 2px rgba(0, 0, 0, 0.3));\n",
              "      fill: #FFFFFF;\n",
              "    }\n",
              "  </style>\n",
              "\n",
              "      <script>\n",
              "        const buttonEl =\n",
              "          document.querySelector('#df-337670c3-4e8f-4383-a54a-f4986039c382 button.colab-df-convert');\n",
              "        buttonEl.style.display =\n",
              "          google.colab.kernel.accessAllowed ? 'block' : 'none';\n",
              "\n",
              "        async function convertToInteractive(key) {\n",
              "          const element = document.querySelector('#df-337670c3-4e8f-4383-a54a-f4986039c382');\n",
              "          const dataTable =\n",
              "            await google.colab.kernel.invokeFunction('convertToInteractive',\n",
              "                                                     [key], {});\n",
              "          if (!dataTable) return;\n",
              "\n",
              "          const docLinkHtml = 'Like what you see? Visit the ' +\n",
              "            '<a target=\"_blank\" href=https://colab.research.google.com/notebooks/data_table.ipynb>data table notebook</a>'\n",
              "            + ' to learn more about interactive tables.';\n",
              "          element.innerHTML = '';\n",
              "          dataTable['output_type'] = 'display_data';\n",
              "          await google.colab.output.renderOutput(dataTable, element);\n",
              "          const docLink = document.createElement('div');\n",
              "          docLink.innerHTML = docLinkHtml;\n",
              "          element.appendChild(docLink);\n",
              "        }\n",
              "      </script>\n",
              "    </div>\n",
              "  </div>\n",
              "  "
            ]
          },
          "metadata": {},
          "execution_count": 18
        }
      ],
      "source": [
        "df1.head()"
      ]
    },
    {
      "cell_type": "code",
      "execution_count": 19,
      "id": "9133ce01",
      "metadata": {
        "execution": {
          "iopub.execute_input": "2022-06-20T14:08:44.499659Z",
          "iopub.status.busy": "2022-06-20T14:08:44.499249Z",
          "iopub.status.idle": "2022-06-20T14:08:44.505721Z",
          "shell.execute_reply": "2022-06-20T14:08:44.504758Z"
        },
        "id": "9133ce01",
        "outputId": "93870a5b-44c0-4099-96a4-3272fe23a7f3",
        "papermill": {
          "duration": 0.028668,
          "end_time": "2022-06-20T14:08:44.507761",
          "exception": false,
          "start_time": "2022-06-20T14:08:44.479093",
          "status": "completed"
        },
        "tags": [],
        "colab": {
          "base_uri": "https://localhost:8080/"
        }
      },
      "outputs": [
        {
          "output_type": "execute_result",
          "data": {
            "text/plain": [
              "Index(['duration', 'days_left', 'price', 'airline_AirAsia',\n",
              "       'airline_Air_India', 'airline_GO_FIRST', 'airline_Indigo',\n",
              "       'airline_SpiceJet', 'airline_Vistara', 'source_city_Bangalore',\n",
              "       'source_city_Chennai', 'source_city_Delhi', 'source_city_Hyderabad',\n",
              "       'source_city_Kolkata', 'source_city_Mumbai', 'departure_time_Afternoon',\n",
              "       'departure_time_Early_Morning', 'departure_time_Evening',\n",
              "       'departure_time_Late_Night', 'departure_time_Morning',\n",
              "       'departure_time_Night', 'stops_one', 'stops_two_or_more', 'stops_zero',\n",
              "       'arrival_time_Afternoon', 'arrival_time_Early_Morning',\n",
              "       'arrival_time_Evening', 'arrival_time_Late_Night',\n",
              "       'arrival_time_Morning', 'arrival_time_Night',\n",
              "       'destination_city_Bangalore', 'destination_city_Chennai',\n",
              "       'destination_city_Delhi', 'destination_city_Hyderabad',\n",
              "       'destination_city_Kolkata', 'destination_city_Mumbai', 'class_Business',\n",
              "       'class_Economy'],\n",
              "      dtype='object')"
            ]
          },
          "metadata": {},
          "execution_count": 19
        }
      ],
      "source": [
        "df1.columns"
      ]
    },
    {
      "cell_type": "code",
      "execution_count": 20,
      "id": "695ed5fb",
      "metadata": {
        "execution": {
          "iopub.execute_input": "2022-06-20T14:08:44.548018Z",
          "iopub.status.busy": "2022-06-20T14:08:44.547606Z",
          "iopub.status.idle": "2022-06-20T14:08:44.553743Z",
          "shell.execute_reply": "2022-06-20T14:08:44.553040Z"
        },
        "id": "695ed5fb",
        "outputId": "c3cd8966-1b27-4746-b9a2-2fdfbadb452d",
        "papermill": {
          "duration": 0.02938,
          "end_time": "2022-06-20T14:08:44.556265",
          "exception": false,
          "start_time": "2022-06-20T14:08:44.526885",
          "status": "completed"
        },
        "tags": [],
        "colab": {
          "base_uri": "https://localhost:8080/"
        }
      },
      "outputs": [
        {
          "output_type": "execute_result",
          "data": {
            "text/plain": [
              "(300153, 38)"
            ]
          },
          "metadata": {},
          "execution_count": 20
        }
      ],
      "source": [
        "df1.shape"
      ]
    },
    {
      "cell_type": "code",
      "execution_count": 21,
      "id": "dccdef31",
      "metadata": {
        "execution": {
          "iopub.execute_input": "2022-06-20T14:08:44.598097Z",
          "iopub.status.busy": "2022-06-20T14:08:44.597273Z",
          "iopub.status.idle": "2022-06-20T14:08:44.617086Z",
          "shell.execute_reply": "2022-06-20T14:08:44.616343Z"
        },
        "id": "dccdef31",
        "papermill": {
          "duration": 0.042765,
          "end_time": "2022-06-20T14:08:44.619314",
          "exception": false,
          "start_time": "2022-06-20T14:08:44.576549",
          "status": "completed"
        },
        "tags": []
      },
      "outputs": [],
      "source": [
        "df1.drop([\"airline_AirAsia\",\"source_city_Bangalore\",\"departure_time_Afternoon\",\"stops_one\",\"arrival_time_Afternoon\",\"destination_city_Bangalore\",\"class_Business\"],axis = 1,inplace = True)"
      ]
    },
    {
      "cell_type": "code",
      "execution_count": 22,
      "id": "fde2883d",
      "metadata": {
        "execution": {
          "iopub.execute_input": "2022-06-20T14:08:44.660448Z",
          "iopub.status.busy": "2022-06-20T14:08:44.659862Z",
          "iopub.status.idle": "2022-06-20T14:08:44.697846Z",
          "shell.execute_reply": "2022-06-20T14:08:44.696727Z"
        },
        "id": "fde2883d",
        "outputId": "2283e3f5-37a9-4c2f-e697-a29949facb93",
        "papermill": {
          "duration": 0.060747,
          "end_time": "2022-06-20T14:08:44.700130",
          "exception": false,
          "start_time": "2022-06-20T14:08:44.639383",
          "status": "completed"
        },
        "tags": [],
        "colab": {
          "base_uri": "https://localhost:8080/",
          "height": 488
        }
      },
      "outputs": [
        {
          "output_type": "execute_result",
          "data": {
            "text/plain": [
              "        duration  days_left  price  airline_Air_India  airline_GO_FIRST  \\\n",
              "0           2.17          1   5953                  0                 0   \n",
              "1           2.33          1   5953                  0                 0   \n",
              "2           2.17          1   5956                  0                 0   \n",
              "3           2.25          1   5955                  0                 0   \n",
              "4           2.33          1   5955                  0                 0   \n",
              "...          ...        ...    ...                ...               ...   \n",
              "300148     10.08         49  69265                  0                 0   \n",
              "300149     10.42         49  77105                  0                 0   \n",
              "300150     13.83         49  79099                  0                 0   \n",
              "300151     10.00         49  81585                  0                 0   \n",
              "300152     10.08         49  81585                  0                 0   \n",
              "\n",
              "        airline_Indigo  airline_SpiceJet  airline_Vistara  \\\n",
              "0                    0                 1                0   \n",
              "1                    0                 1                0   \n",
              "2                    0                 0                0   \n",
              "3                    0                 0                1   \n",
              "4                    0                 0                1   \n",
              "...                ...               ...              ...   \n",
              "300148               0                 0                1   \n",
              "300149               0                 0                1   \n",
              "300150               0                 0                1   \n",
              "300151               0                 0                1   \n",
              "300152               0                 0                1   \n",
              "\n",
              "        source_city_Chennai  source_city_Delhi  ...  arrival_time_Evening  \\\n",
              "0                         0                  1  ...                     0   \n",
              "1                         0                  1  ...                     0   \n",
              "2                         0                  1  ...                     0   \n",
              "3                         0                  1  ...                     0   \n",
              "4                         0                  1  ...                     0   \n",
              "...                     ...                ...  ...                   ...   \n",
              "300148                    1                  0  ...                     1   \n",
              "300149                    1                  0  ...                     0   \n",
              "300150                    1                  0  ...                     0   \n",
              "300151                    1                  0  ...                     1   \n",
              "300152                    1                  0  ...                     1   \n",
              "\n",
              "        arrival_time_Late_Night  arrival_time_Morning  arrival_time_Night  \\\n",
              "0                             0                     0                   1   \n",
              "1                             0                     1                   0   \n",
              "2                             0                     0                   0   \n",
              "3                             0                     0                   0   \n",
              "4                             0                     1                   0   \n",
              "...                         ...                   ...                 ...   \n",
              "300148                        0                     0                   0   \n",
              "300149                        0                     0                   1   \n",
              "300150                        0                     0                   1   \n",
              "300151                        0                     0                   0   \n",
              "300152                        0                     0                   0   \n",
              "\n",
              "        destination_city_Chennai  destination_city_Delhi  \\\n",
              "0                              0                       0   \n",
              "1                              0                       0   \n",
              "2                              0                       0   \n",
              "3                              0                       0   \n",
              "4                              0                       0   \n",
              "...                          ...                     ...   \n",
              "300148                         0                       0   \n",
              "300149                         0                       0   \n",
              "300150                         0                       0   \n",
              "300151                         0                       0   \n",
              "300152                         0                       0   \n",
              "\n",
              "        destination_city_Hyderabad  destination_city_Kolkata  \\\n",
              "0                                0                         0   \n",
              "1                                0                         0   \n",
              "2                                0                         0   \n",
              "3                                0                         0   \n",
              "4                                0                         0   \n",
              "...                            ...                       ...   \n",
              "300148                           1                         0   \n",
              "300149                           1                         0   \n",
              "300150                           1                         0   \n",
              "300151                           1                         0   \n",
              "300152                           1                         0   \n",
              "\n",
              "        destination_city_Mumbai  class_Economy  \n",
              "0                             1              1  \n",
              "1                             1              1  \n",
              "2                             1              1  \n",
              "3                             1              1  \n",
              "4                             1              1  \n",
              "...                         ...            ...  \n",
              "300148                        0              0  \n",
              "300149                        0              0  \n",
              "300150                        0              0  \n",
              "300151                        0              0  \n",
              "300152                        0              0  \n",
              "\n",
              "[300153 rows x 31 columns]"
            ],
            "text/html": [
              "\n",
              "  <div id=\"df-55425967-b3be-4635-8508-81176f86fd97\">\n",
              "    <div class=\"colab-df-container\">\n",
              "      <div>\n",
              "<style scoped>\n",
              "    .dataframe tbody tr th:only-of-type {\n",
              "        vertical-align: middle;\n",
              "    }\n",
              "\n",
              "    .dataframe tbody tr th {\n",
              "        vertical-align: top;\n",
              "    }\n",
              "\n",
              "    .dataframe thead th {\n",
              "        text-align: right;\n",
              "    }\n",
              "</style>\n",
              "<table border=\"1\" class=\"dataframe\">\n",
              "  <thead>\n",
              "    <tr style=\"text-align: right;\">\n",
              "      <th></th>\n",
              "      <th>duration</th>\n",
              "      <th>days_left</th>\n",
              "      <th>price</th>\n",
              "      <th>airline_Air_India</th>\n",
              "      <th>airline_GO_FIRST</th>\n",
              "      <th>airline_Indigo</th>\n",
              "      <th>airline_SpiceJet</th>\n",
              "      <th>airline_Vistara</th>\n",
              "      <th>source_city_Chennai</th>\n",
              "      <th>source_city_Delhi</th>\n",
              "      <th>...</th>\n",
              "      <th>arrival_time_Evening</th>\n",
              "      <th>arrival_time_Late_Night</th>\n",
              "      <th>arrival_time_Morning</th>\n",
              "      <th>arrival_time_Night</th>\n",
              "      <th>destination_city_Chennai</th>\n",
              "      <th>destination_city_Delhi</th>\n",
              "      <th>destination_city_Hyderabad</th>\n",
              "      <th>destination_city_Kolkata</th>\n",
              "      <th>destination_city_Mumbai</th>\n",
              "      <th>class_Economy</th>\n",
              "    </tr>\n",
              "  </thead>\n",
              "  <tbody>\n",
              "    <tr>\n",
              "      <th>0</th>\n",
              "      <td>2.17</td>\n",
              "      <td>1</td>\n",
              "      <td>5953</td>\n",
              "      <td>0</td>\n",
              "      <td>0</td>\n",
              "      <td>0</td>\n",
              "      <td>1</td>\n",
              "      <td>0</td>\n",
              "      <td>0</td>\n",
              "      <td>1</td>\n",
              "      <td>...</td>\n",
              "      <td>0</td>\n",
              "      <td>0</td>\n",
              "      <td>0</td>\n",
              "      <td>1</td>\n",
              "      <td>0</td>\n",
              "      <td>0</td>\n",
              "      <td>0</td>\n",
              "      <td>0</td>\n",
              "      <td>1</td>\n",
              "      <td>1</td>\n",
              "    </tr>\n",
              "    <tr>\n",
              "      <th>1</th>\n",
              "      <td>2.33</td>\n",
              "      <td>1</td>\n",
              "      <td>5953</td>\n",
              "      <td>0</td>\n",
              "      <td>0</td>\n",
              "      <td>0</td>\n",
              "      <td>1</td>\n",
              "      <td>0</td>\n",
              "      <td>0</td>\n",
              "      <td>1</td>\n",
              "      <td>...</td>\n",
              "      <td>0</td>\n",
              "      <td>0</td>\n",
              "      <td>1</td>\n",
              "      <td>0</td>\n",
              "      <td>0</td>\n",
              "      <td>0</td>\n",
              "      <td>0</td>\n",
              "      <td>0</td>\n",
              "      <td>1</td>\n",
              "      <td>1</td>\n",
              "    </tr>\n",
              "    <tr>\n",
              "      <th>2</th>\n",
              "      <td>2.17</td>\n",
              "      <td>1</td>\n",
              "      <td>5956</td>\n",
              "      <td>0</td>\n",
              "      <td>0</td>\n",
              "      <td>0</td>\n",
              "      <td>0</td>\n",
              "      <td>0</td>\n",
              "      <td>0</td>\n",
              "      <td>1</td>\n",
              "      <td>...</td>\n",
              "      <td>0</td>\n",
              "      <td>0</td>\n",
              "      <td>0</td>\n",
              "      <td>0</td>\n",
              "      <td>0</td>\n",
              "      <td>0</td>\n",
              "      <td>0</td>\n",
              "      <td>0</td>\n",
              "      <td>1</td>\n",
              "      <td>1</td>\n",
              "    </tr>\n",
              "    <tr>\n",
              "      <th>3</th>\n",
              "      <td>2.25</td>\n",
              "      <td>1</td>\n",
              "      <td>5955</td>\n",
              "      <td>0</td>\n",
              "      <td>0</td>\n",
              "      <td>0</td>\n",
              "      <td>0</td>\n",
              "      <td>1</td>\n",
              "      <td>0</td>\n",
              "      <td>1</td>\n",
              "      <td>...</td>\n",
              "      <td>0</td>\n",
              "      <td>0</td>\n",
              "      <td>0</td>\n",
              "      <td>0</td>\n",
              "      <td>0</td>\n",
              "      <td>0</td>\n",
              "      <td>0</td>\n",
              "      <td>0</td>\n",
              "      <td>1</td>\n",
              "      <td>1</td>\n",
              "    </tr>\n",
              "    <tr>\n",
              "      <th>4</th>\n",
              "      <td>2.33</td>\n",
              "      <td>1</td>\n",
              "      <td>5955</td>\n",
              "      <td>0</td>\n",
              "      <td>0</td>\n",
              "      <td>0</td>\n",
              "      <td>0</td>\n",
              "      <td>1</td>\n",
              "      <td>0</td>\n",
              "      <td>1</td>\n",
              "      <td>...</td>\n",
              "      <td>0</td>\n",
              "      <td>0</td>\n",
              "      <td>1</td>\n",
              "      <td>0</td>\n",
              "      <td>0</td>\n",
              "      <td>0</td>\n",
              "      <td>0</td>\n",
              "      <td>0</td>\n",
              "      <td>1</td>\n",
              "      <td>1</td>\n",
              "    </tr>\n",
              "    <tr>\n",
              "      <th>...</th>\n",
              "      <td>...</td>\n",
              "      <td>...</td>\n",
              "      <td>...</td>\n",
              "      <td>...</td>\n",
              "      <td>...</td>\n",
              "      <td>...</td>\n",
              "      <td>...</td>\n",
              "      <td>...</td>\n",
              "      <td>...</td>\n",
              "      <td>...</td>\n",
              "      <td>...</td>\n",
              "      <td>...</td>\n",
              "      <td>...</td>\n",
              "      <td>...</td>\n",
              "      <td>...</td>\n",
              "      <td>...</td>\n",
              "      <td>...</td>\n",
              "      <td>...</td>\n",
              "      <td>...</td>\n",
              "      <td>...</td>\n",
              "      <td>...</td>\n",
              "    </tr>\n",
              "    <tr>\n",
              "      <th>300148</th>\n",
              "      <td>10.08</td>\n",
              "      <td>49</td>\n",
              "      <td>69265</td>\n",
              "      <td>0</td>\n",
              "      <td>0</td>\n",
              "      <td>0</td>\n",
              "      <td>0</td>\n",
              "      <td>1</td>\n",
              "      <td>1</td>\n",
              "      <td>0</td>\n",
              "      <td>...</td>\n",
              "      <td>1</td>\n",
              "      <td>0</td>\n",
              "      <td>0</td>\n",
              "      <td>0</td>\n",
              "      <td>0</td>\n",
              "      <td>0</td>\n",
              "      <td>1</td>\n",
              "      <td>0</td>\n",
              "      <td>0</td>\n",
              "      <td>0</td>\n",
              "    </tr>\n",
              "    <tr>\n",
              "      <th>300149</th>\n",
              "      <td>10.42</td>\n",
              "      <td>49</td>\n",
              "      <td>77105</td>\n",
              "      <td>0</td>\n",
              "      <td>0</td>\n",
              "      <td>0</td>\n",
              "      <td>0</td>\n",
              "      <td>1</td>\n",
              "      <td>1</td>\n",
              "      <td>0</td>\n",
              "      <td>...</td>\n",
              "      <td>0</td>\n",
              "      <td>0</td>\n",
              "      <td>0</td>\n",
              "      <td>1</td>\n",
              "      <td>0</td>\n",
              "      <td>0</td>\n",
              "      <td>1</td>\n",
              "      <td>0</td>\n",
              "      <td>0</td>\n",
              "      <td>0</td>\n",
              "    </tr>\n",
              "    <tr>\n",
              "      <th>300150</th>\n",
              "      <td>13.83</td>\n",
              "      <td>49</td>\n",
              "      <td>79099</td>\n",
              "      <td>0</td>\n",
              "      <td>0</td>\n",
              "      <td>0</td>\n",
              "      <td>0</td>\n",
              "      <td>1</td>\n",
              "      <td>1</td>\n",
              "      <td>0</td>\n",
              "      <td>...</td>\n",
              "      <td>0</td>\n",
              "      <td>0</td>\n",
              "      <td>0</td>\n",
              "      <td>1</td>\n",
              "      <td>0</td>\n",
              "      <td>0</td>\n",
              "      <td>1</td>\n",
              "      <td>0</td>\n",
              "      <td>0</td>\n",
              "      <td>0</td>\n",
              "    </tr>\n",
              "    <tr>\n",
              "      <th>300151</th>\n",
              "      <td>10.00</td>\n",
              "      <td>49</td>\n",
              "      <td>81585</td>\n",
              "      <td>0</td>\n",
              "      <td>0</td>\n",
              "      <td>0</td>\n",
              "      <td>0</td>\n",
              "      <td>1</td>\n",
              "      <td>1</td>\n",
              "      <td>0</td>\n",
              "      <td>...</td>\n",
              "      <td>1</td>\n",
              "      <td>0</td>\n",
              "      <td>0</td>\n",
              "      <td>0</td>\n",
              "      <td>0</td>\n",
              "      <td>0</td>\n",
              "      <td>1</td>\n",
              "      <td>0</td>\n",
              "      <td>0</td>\n",
              "      <td>0</td>\n",
              "    </tr>\n",
              "    <tr>\n",
              "      <th>300152</th>\n",
              "      <td>10.08</td>\n",
              "      <td>49</td>\n",
              "      <td>81585</td>\n",
              "      <td>0</td>\n",
              "      <td>0</td>\n",
              "      <td>0</td>\n",
              "      <td>0</td>\n",
              "      <td>1</td>\n",
              "      <td>1</td>\n",
              "      <td>0</td>\n",
              "      <td>...</td>\n",
              "      <td>1</td>\n",
              "      <td>0</td>\n",
              "      <td>0</td>\n",
              "      <td>0</td>\n",
              "      <td>0</td>\n",
              "      <td>0</td>\n",
              "      <td>1</td>\n",
              "      <td>0</td>\n",
              "      <td>0</td>\n",
              "      <td>0</td>\n",
              "    </tr>\n",
              "  </tbody>\n",
              "</table>\n",
              "<p>300153 rows × 31 columns</p>\n",
              "</div>\n",
              "      <button class=\"colab-df-convert\" onclick=\"convertToInteractive('df-55425967-b3be-4635-8508-81176f86fd97')\"\n",
              "              title=\"Convert this dataframe to an interactive table.\"\n",
              "              style=\"display:none;\">\n",
              "        \n",
              "  <svg xmlns=\"http://www.w3.org/2000/svg\" height=\"24px\"viewBox=\"0 0 24 24\"\n",
              "       width=\"24px\">\n",
              "    <path d=\"M0 0h24v24H0V0z\" fill=\"none\"/>\n",
              "    <path d=\"M18.56 5.44l.94 2.06.94-2.06 2.06-.94-2.06-.94-.94-2.06-.94 2.06-2.06.94zm-11 1L8.5 8.5l.94-2.06 2.06-.94-2.06-.94L8.5 2.5l-.94 2.06-2.06.94zm10 10l.94 2.06.94-2.06 2.06-.94-2.06-.94-.94-2.06-.94 2.06-2.06.94z\"/><path d=\"M17.41 7.96l-1.37-1.37c-.4-.4-.92-.59-1.43-.59-.52 0-1.04.2-1.43.59L10.3 9.45l-7.72 7.72c-.78.78-.78 2.05 0 2.83L4 21.41c.39.39.9.59 1.41.59.51 0 1.02-.2 1.41-.59l7.78-7.78 2.81-2.81c.8-.78.8-2.07 0-2.86zM5.41 20L4 18.59l7.72-7.72 1.47 1.35L5.41 20z\"/>\n",
              "  </svg>\n",
              "      </button>\n",
              "      \n",
              "  <style>\n",
              "    .colab-df-container {\n",
              "      display:flex;\n",
              "      flex-wrap:wrap;\n",
              "      gap: 12px;\n",
              "    }\n",
              "\n",
              "    .colab-df-convert {\n",
              "      background-color: #E8F0FE;\n",
              "      border: none;\n",
              "      border-radius: 50%;\n",
              "      cursor: pointer;\n",
              "      display: none;\n",
              "      fill: #1967D2;\n",
              "      height: 32px;\n",
              "      padding: 0 0 0 0;\n",
              "      width: 32px;\n",
              "    }\n",
              "\n",
              "    .colab-df-convert:hover {\n",
              "      background-color: #E2EBFA;\n",
              "      box-shadow: 0px 1px 2px rgba(60, 64, 67, 0.3), 0px 1px 3px 1px rgba(60, 64, 67, 0.15);\n",
              "      fill: #174EA6;\n",
              "    }\n",
              "\n",
              "    [theme=dark] .colab-df-convert {\n",
              "      background-color: #3B4455;\n",
              "      fill: #D2E3FC;\n",
              "    }\n",
              "\n",
              "    [theme=dark] .colab-df-convert:hover {\n",
              "      background-color: #434B5C;\n",
              "      box-shadow: 0px 1px 3px 1px rgba(0, 0, 0, 0.15);\n",
              "      filter: drop-shadow(0px 1px 2px rgba(0, 0, 0, 0.3));\n",
              "      fill: #FFFFFF;\n",
              "    }\n",
              "  </style>\n",
              "\n",
              "      <script>\n",
              "        const buttonEl =\n",
              "          document.querySelector('#df-55425967-b3be-4635-8508-81176f86fd97 button.colab-df-convert');\n",
              "        buttonEl.style.display =\n",
              "          google.colab.kernel.accessAllowed ? 'block' : 'none';\n",
              "\n",
              "        async function convertToInteractive(key) {\n",
              "          const element = document.querySelector('#df-55425967-b3be-4635-8508-81176f86fd97');\n",
              "          const dataTable =\n",
              "            await google.colab.kernel.invokeFunction('convertToInteractive',\n",
              "                                                     [key], {});\n",
              "          if (!dataTable) return;\n",
              "\n",
              "          const docLinkHtml = 'Like what you see? Visit the ' +\n",
              "            '<a target=\"_blank\" href=https://colab.research.google.com/notebooks/data_table.ipynb>data table notebook</a>'\n",
              "            + ' to learn more about interactive tables.';\n",
              "          element.innerHTML = '';\n",
              "          dataTable['output_type'] = 'display_data';\n",
              "          await google.colab.output.renderOutput(dataTable, element);\n",
              "          const docLink = document.createElement('div');\n",
              "          docLink.innerHTML = docLinkHtml;\n",
              "          element.appendChild(docLink);\n",
              "        }\n",
              "      </script>\n",
              "    </div>\n",
              "  </div>\n",
              "  "
            ]
          },
          "metadata": {},
          "execution_count": 22
        }
      ],
      "source": [
        "df1"
      ]
    },
    {
      "cell_type": "code",
      "execution_count": 23,
      "id": "afaae890",
      "metadata": {
        "execution": {
          "iopub.execute_input": "2022-06-20T14:08:44.741448Z",
          "iopub.status.busy": "2022-06-20T14:08:44.741003Z",
          "iopub.status.idle": "2022-06-20T14:08:44.748003Z",
          "shell.execute_reply": "2022-06-20T14:08:44.746978Z"
        },
        "id": "afaae890",
        "outputId": "719d1cfc-288e-49e0-a3a4-27b5cfe2732f",
        "papermill": {
          "duration": 0.0303,
          "end_time": "2022-06-20T14:08:44.750287",
          "exception": false,
          "start_time": "2022-06-20T14:08:44.719987",
          "status": "completed"
        },
        "tags": [],
        "colab": {
          "base_uri": "https://localhost:8080/"
        }
      },
      "outputs": [
        {
          "output_type": "execute_result",
          "data": {
            "text/plain": [
              "(300153, 31)"
            ]
          },
          "metadata": {},
          "execution_count": 23
        }
      ],
      "source": [
        "df1.shape"
      ]
    },
    {
      "cell_type": "code",
      "execution_count": 24,
      "id": "e633c991",
      "metadata": {
        "execution": {
          "iopub.execute_input": "2022-06-20T14:08:44.793988Z",
          "iopub.status.busy": "2022-06-20T14:08:44.793250Z",
          "iopub.status.idle": "2022-06-20T14:08:44.826426Z",
          "shell.execute_reply": "2022-06-20T14:08:44.825605Z"
        },
        "id": "e633c991",
        "papermill": {
          "duration": 0.057749,
          "end_time": "2022-06-20T14:08:44.828655",
          "exception": false,
          "start_time": "2022-06-20T14:08:44.770906",
          "status": "completed"
        },
        "tags": []
      },
      "outputs": [],
      "source": [
        "x = df1.drop([\"price\"],axis = 1).values\n",
        "y = df1[\"price\"].values"
      ]
    },
    {
      "cell_type": "code",
      "execution_count": 25,
      "id": "21dfd77f",
      "metadata": {
        "execution": {
          "iopub.execute_input": "2022-06-20T14:08:44.871056Z",
          "iopub.status.busy": "2022-06-20T14:08:44.870176Z",
          "iopub.status.idle": "2022-06-20T14:08:44.876283Z",
          "shell.execute_reply": "2022-06-20T14:08:44.875626Z"
        },
        "id": "21dfd77f",
        "outputId": "897d9b69-3479-4bb4-d808-4c514750c819",
        "papermill": {
          "duration": 0.029719,
          "end_time": "2022-06-20T14:08:44.878230",
          "exception": false,
          "start_time": "2022-06-20T14:08:44.848511",
          "status": "completed"
        },
        "tags": [],
        "colab": {
          "base_uri": "https://localhost:8080/"
        }
      },
      "outputs": [
        {
          "output_type": "execute_result",
          "data": {
            "text/plain": [
              "array([[ 2.17,  1.  ,  0.  , ...,  0.  ,  1.  ,  1.  ],\n",
              "       [ 2.33,  1.  ,  0.  , ...,  0.  ,  1.  ,  1.  ],\n",
              "       [ 2.17,  1.  ,  0.  , ...,  0.  ,  1.  ,  1.  ],\n",
              "       ...,\n",
              "       [13.83, 49.  ,  0.  , ...,  0.  ,  0.  ,  0.  ],\n",
              "       [10.  , 49.  ,  0.  , ...,  0.  ,  0.  ,  0.  ],\n",
              "       [10.08, 49.  ,  0.  , ...,  0.  ,  0.  ,  0.  ]])"
            ]
          },
          "metadata": {},
          "execution_count": 25
        }
      ],
      "source": [
        "x"
      ]
    },
    {
      "cell_type": "code",
      "execution_count": 26,
      "id": "4f3a3547",
      "metadata": {
        "execution": {
          "iopub.execute_input": "2022-06-20T14:08:44.921549Z",
          "iopub.status.busy": "2022-06-20T14:08:44.920717Z",
          "iopub.status.idle": "2022-06-20T14:08:44.926134Z",
          "shell.execute_reply": "2022-06-20T14:08:44.925342Z"
        },
        "id": "4f3a3547",
        "outputId": "8d567ad5-0e56-415d-d7d5-097241883be2",
        "papermill": {
          "duration": 0.029362,
          "end_time": "2022-06-20T14:08:44.928207",
          "exception": false,
          "start_time": "2022-06-20T14:08:44.898845",
          "status": "completed"
        },
        "tags": [],
        "colab": {
          "base_uri": "https://localhost:8080/"
        }
      },
      "outputs": [
        {
          "output_type": "execute_result",
          "data": {
            "text/plain": [
              "array([ 5953,  5953,  5956, ..., 79099, 81585, 81585])"
            ]
          },
          "metadata": {},
          "execution_count": 26
        }
      ],
      "source": [
        "y"
      ]
    },
    {
      "cell_type": "code",
      "execution_count": 27,
      "id": "e0e7d9f1",
      "metadata": {
        "execution": {
          "iopub.execute_input": "2022-06-20T14:08:44.971581Z",
          "iopub.status.busy": "2022-06-20T14:08:44.970929Z",
          "iopub.status.idle": "2022-06-20T14:08:45.142391Z",
          "shell.execute_reply": "2022-06-20T14:08:45.141068Z"
        },
        "id": "e0e7d9f1",
        "outputId": "2f70c498-9d18-4ab4-e3d8-b7f584b04ef4",
        "papermill": {
          "duration": 0.195474,
          "end_time": "2022-06-20T14:08:45.144915",
          "exception": false,
          "start_time": "2022-06-20T14:08:44.949441",
          "status": "completed"
        },
        "tags": [],
        "colab": {
          "base_uri": "https://localhost:8080/"
        }
      },
      "outputs": [
        {
          "output_type": "execute_result",
          "data": {
            "text/plain": [
              "array([[-1.39753079, -1.84387477, -0.60739623, ..., -0.44457466,\n",
              "         2.01965066,  0.67257558],\n",
              "       [-1.3752838 , -1.84387477, -0.60739623, ..., -0.44457466,\n",
              "         2.01965066,  0.67257558],\n",
              "       [-1.39753079, -1.84387477, -0.60739623, ..., -0.44457466,\n",
              "         2.01965066,  0.67257558],\n",
              "       ...,\n",
              "       [ 0.22371837,  1.69569214, -0.60739623, ..., -0.44457466,\n",
              "        -0.49513513, -1.48682175],\n",
              "       [-0.30881888,  1.69569214, -0.60739623, ..., -0.44457466,\n",
              "        -0.49513513, -1.48682175],\n",
              "       [-0.29769538,  1.69569214, -0.60739623, ..., -0.44457466,\n",
              "        -0.49513513, -1.48682175]])"
            ]
          },
          "metadata": {},
          "execution_count": 27
        }
      ],
      "source": [
        "from sklearn.preprocessing import StandardScaler\n",
        "sc = StandardScaler()\n",
        "sc.fit_transform(x)"
      ]
    },
    {
      "cell_type": "code",
      "execution_count": 28,
      "id": "a3bdcee5",
      "metadata": {
        "execution": {
          "iopub.execute_input": "2022-06-20T14:08:45.188782Z",
          "iopub.status.busy": "2022-06-20T14:08:45.188012Z",
          "iopub.status.idle": "2022-06-20T14:08:45.401188Z",
          "shell.execute_reply": "2022-06-20T14:08:45.400193Z"
        },
        "id": "a3bdcee5",
        "papermill": {
          "duration": 0.237943,
          "end_time": "2022-06-20T14:08:45.403640",
          "exception": false,
          "start_time": "2022-06-20T14:08:45.165697",
          "status": "completed"
        },
        "tags": []
      },
      "outputs": [],
      "source": [
        "from sklearn.model_selection import train_test_split\n",
        "x_train,x_test,y_train,y_test = train_test_split(x,y,test_size =0.2 ,random_state = 0)"
      ]
    },
    {
      "cell_type": "code",
      "execution_count": 29,
      "id": "feb04a02",
      "metadata": {
        "execution": {
          "iopub.execute_input": "2022-06-20T14:08:45.446680Z",
          "iopub.status.busy": "2022-06-20T14:08:45.446256Z",
          "iopub.status.idle": "2022-06-20T14:08:45.884191Z",
          "shell.execute_reply": "2022-06-20T14:08:45.882794Z"
        },
        "id": "feb04a02",
        "outputId": "414833a9-b1e8-4128-deaf-d84ddb358410",
        "papermill": {
          "duration": 0.462733,
          "end_time": "2022-06-20T14:08:45.887342",
          "exception": false,
          "start_time": "2022-06-20T14:08:45.424609",
          "status": "completed"
        },
        "tags": [],
        "colab": {
          "base_uri": "https://localhost:8080/"
        }
      },
      "outputs": [
        {
          "output_type": "execute_result",
          "data": {
            "text/plain": [
              "LinearRegression()"
            ]
          },
          "metadata": {},
          "execution_count": 29
        }
      ],
      "source": [
        "from sklearn.linear_model import LinearRegression\n",
        "lr = LinearRegression()\n",
        "lr.fit(x_train,y_train)"
      ]
    },
    {
      "cell_type": "code",
      "execution_count": 30,
      "id": "22899e83",
      "metadata": {
        "execution": {
          "iopub.execute_input": "2022-06-20T14:08:45.964600Z",
          "iopub.status.busy": "2022-06-20T14:08:45.964215Z",
          "iopub.status.idle": "2022-06-20T14:08:45.973494Z",
          "shell.execute_reply": "2022-06-20T14:08:45.972150Z"
        },
        "id": "22899e83",
        "papermill": {
          "duration": 0.051332,
          "end_time": "2022-06-20T14:08:45.976804",
          "exception": false,
          "start_time": "2022-06-20T14:08:45.925472",
          "status": "completed"
        },
        "tags": []
      },
      "outputs": [],
      "source": [
        "pred = lr.predict(x_test)"
      ]
    },
    {
      "cell_type": "code",
      "execution_count": 31,
      "id": "583a479f",
      "metadata": {
        "execution": {
          "iopub.execute_input": "2022-06-20T14:08:46.057760Z",
          "iopub.status.busy": "2022-06-20T14:08:46.057163Z",
          "iopub.status.idle": "2022-06-20T14:08:46.072993Z",
          "shell.execute_reply": "2022-06-20T14:08:46.070267Z"
        },
        "id": "583a479f",
        "outputId": "bd269adb-9758-4675-e156-50cea3e47b3b",
        "papermill": {
          "duration": 0.061415,
          "end_time": "2022-06-20T14:08:46.078150",
          "exception": false,
          "start_time": "2022-06-20T14:08:46.016735",
          "status": "completed"
        },
        "tags": [],
        "colab": {
          "base_uri": "https://localhost:8080/"
        }
      },
      "outputs": [
        {
          "output_type": "stream",
          "name": "stdout",
          "text": [
            "0.9037846140992645\n"
          ]
        }
      ],
      "source": [
        "from sklearn.metrics import r2_score\n",
        "print(r2_score(pred,y_test))"
      ]
    },
    {
      "cell_type": "code",
      "source": [
        "from sklearn.metrics import r2_score\n",
        "from sklearn.model_selection import cross_val_score\n",
        "from sklearn.metrics import mean_squared_error\n",
        "\n",
        "MSE = mean_squared_error(y_test, pred)\n",
        "\n",
        "# Predicting R2 Score the Train set results\n",
        "y_pred_linear_train = lr.predict(x_train)\n",
        "r2_score_linear_train = r2_score(y_train, y_pred_linear_train)\n",
        "\n",
        "# Predicting R2 Score the Test set results\n",
        "r2_score_linear_test = r2_score(y_test, pred)\n",
        "\n",
        "# Predicting RMSE the Test set results\n",
        "rmse_linear = np.sqrt(MSE)\n",
        "print(\"MSE: \", MSE)\n",
        "print('R2_score (train): ', r2_score_linear_train)\n",
        "print('R2_score (test): ', r2_score_linear_test)\n",
        "print(\"RMSE: \", rmse_linear)"
      ],
      "metadata": {
        "colab": {
          "base_uri": "https://localhost:8080/"
        },
        "id": "kOP_7MP_pOVL",
        "outputId": "edb4cbdd-7e27-468c-86ce-85581cbe5962"
      },
      "id": "kOP_7MP_pOVL",
      "execution_count": 32,
      "outputs": [
        {
          "output_type": "stream",
          "name": "stdout",
          "text": [
            "MSE:  44950238.538583115\n",
            "R2_score (train):  0.9112960535724197\n",
            "R2_score (test):  0.9120895441788929\n",
            "RMSE:  6704.493906223132\n"
          ]
        }
      ]
    },
    {
      "cell_type": "code",
      "source": [
        "from sklearn.preprocessing import PolynomialFeatures\n",
        "poly_reg = PolynomialFeatures(degree = 2)\n",
        "x_poly = poly_reg.fit_transform(x_train)\n",
        "poly_reg.fit(x_poly, y_train)\n",
        "regressor_poly3 = LinearRegression()\n",
        "regressor_poly3.fit(x_poly, y_train)"
      ],
      "metadata": {
        "colab": {
          "base_uri": "https://localhost:8080/"
        },
        "id": "KXojnzoApoel",
        "outputId": "1be22a44-6423-40a6-cd63-26712de23be3"
      },
      "id": "KXojnzoApoel",
      "execution_count": 33,
      "outputs": [
        {
          "output_type": "execute_result",
          "data": {
            "text/plain": [
              "LinearRegression()"
            ]
          },
          "metadata": {},
          "execution_count": 33
        }
      ]
    },
    {
      "cell_type": "code",
      "source": [
        "regressor_poly3_pred = regressor_poly3.predict(poly_reg.fit_transform(x_test))\n",
        "regressor_poly3_pred"
      ],
      "metadata": {
        "colab": {
          "base_uri": "https://localhost:8080/"
        },
        "id": "DQ6e5Umqpop4",
        "outputId": "9311eced-6105-4b79-ac79-c5ed90e88b9b"
      },
      "id": "DQ6e5Umqpop4",
      "execution_count": 34,
      "outputs": [
        {
          "output_type": "execute_result",
          "data": {
            "text/plain": [
              "array([10313.7260437 , 59304.7429657 ,  7013.42388916, ...,\n",
              "        8268.30664062,  7154.04360962,  7245.52984619])"
            ]
          },
          "metadata": {},
          "execution_count": 34
        }
      ]
    },
    {
      "cell_type": "code",
      "source": [
        "from sklearn.metrics import r2_score\n",
        "\n",
        "from sklearn.metrics import mean_squared_error\n",
        "\n",
        "MSE1 = mean_squared_error(y_test, regressor_poly3_pred)\n",
        "\n",
        "# Predicting R2 Score the Train set results\n",
        "y_pred_poly_train = regressor_poly3.predict(x_poly)\n",
        "r2_score_poly_train = r2_score(y_train, y_pred_linear_train1)\n",
        "\n",
        "# Predicting R2 Score the Test set results\n",
        "y_pred_poly_test = regressor_poly3.predict(poly_reg.fit_transform(x_test))\n",
        "r2_score_poly_test = r2_score(y_test, y_pred_linear_test1)\n",
        "\n",
        "# Predicting RMSE the Test set results\n",
        "rmse_poly = np.sqrt(MSE1)\n",
        "print(\"MSE: \", MSE1)\n",
        "print('R2_score (train): ', r2_score_poly_train)\n",
        "print('R2_score (test): ', r2_score_poly_test)\n",
        "print(\"RMSE: \", rmse_poly)"
      ],
      "metadata": {
        "colab": {
          "base_uri": "https://localhost:8080/"
        },
        "id": "PeKK5V1npor5",
        "outputId": "5bd91c1e-1fb7-4849-d793-fb2dc534d152"
      },
      "id": "PeKK5V1npor5",
      "execution_count": 43,
      "outputs": [
        {
          "output_type": "stream",
          "name": "stdout",
          "text": [
            "MSE:  24660538.492374286\n",
            "R2_score (train):  0.9510835667885951\n",
            "R2_score (test):  0.9517706857595929\n",
            "RMSE:  4965.937826068132\n"
          ]
        }
      ]
    },
    {
      "cell_type": "code",
      "source": [
        "from sklearn.tree import DecisionTreeRegressor\n",
        "regressor_dt = DecisionTreeRegressor(random_state = 0)\n",
        "regressor_dt.fit(x_train, y_train)"
      ],
      "metadata": {
        "colab": {
          "base_uri": "https://localhost:8080/"
        },
        "id": "LnzFiTxP0u7N",
        "outputId": "cd959441-8960-47da-ffbf-e354f17d34eb"
      },
      "id": "LnzFiTxP0u7N",
      "execution_count": 36,
      "outputs": [
        {
          "output_type": "execute_result",
          "data": {
            "text/plain": [
              "DecisionTreeRegressor(random_state=0)"
            ]
          },
          "metadata": {},
          "execution_count": 36
        }
      ]
    },
    {
      "cell_type": "code",
      "source": [
        "from sklearn.metrics import r2_score\n",
        "\n",
        "from sklearn.metrics import mean_squared_error\n",
        "\n",
        "MSE2 = mean_squared_error(y_test,regressor_dt.predict(x_test))\n",
        "\n",
        "# Predicting R2 Score the Train set results\n",
        "y_pred_dt_train = regressor_dt.predict(x_train)\n",
        "r2_score_dt_train = r2_score(y_train, y_pred_dt_train)\n",
        "\n",
        "# Predicting R2 Score the Test set results\n",
        "y_pred_dt_test = regressor_dt.predict(x_test)\n",
        "r2_score_dt_test = r2_score(y_test, y_pred_dt_test)\n",
        "\n",
        "# Predicting RMSE the Test set results\n",
        "rmse_dt = np.sqrt(MSE2)\n",
        "print(\"MSE: \", MSE2)\n",
        "print('R2_score (train): ', r2_score_dt_train)\n",
        "print('R2_score (test): ', r2_score_dt_test)\n",
        "print(\"RMSE: \", rmse_dt)"
      ],
      "metadata": {
        "colab": {
          "base_uri": "https://localhost:8080/"
        },
        "id": "nouLYftu1eGO",
        "outputId": "643b70ff-8e38-49f8-be4d-ad5bef70f4b2"
      },
      "id": "nouLYftu1eGO",
      "execution_count": 44,
      "outputs": [
        {
          "output_type": "stream",
          "name": "stdout",
          "text": [
            "MSE:  12102286.883479184\n",
            "R2_score (train):  0.9992847966145809\n",
            "R2_score (test):  0.9763312144497021\n",
            "RMSE:  3478.834127043022\n"
          ]
        }
      ]
    },
    {
      "cell_type": "code",
      "source": [
        "models = [('Linear Regression', rmse_linear, r2_score_linear_train, r2_score_linear_test, MSE),\n",
        "          ('Polynomial Regression (2nd)', rmse_poly, r2_score_poly_train, r2_score_poly_test, MSE1),\n",
        "          ('Decision Tree Regression', rmse_dt, r2_score_dt_train, r2_score_dt_test, MSE2),\n",
        "         ]"
      ],
      "metadata": {
        "id": "RvHRX4pz2mqA"
      },
      "id": "RvHRX4pz2mqA",
      "execution_count": 50,
      "outputs": []
    },
    {
      "cell_type": "code",
      "source": [
        "predict = pd.DataFrame(data = models, columns=['Model', 'RMSE', 'R2_Score(training)', 'R2_Score(test)', 'MSE'])\n",
        "predict"
      ],
      "metadata": {
        "colab": {
          "base_uri": "https://localhost:8080/",
          "height": 143
        },
        "id": "qDeoKEpv3lIn",
        "outputId": "aba5be38-e801-4171-fd17-89a39812a1dc"
      },
      "id": "qDeoKEpv3lIn",
      "execution_count": 53,
      "outputs": [
        {
          "output_type": "execute_result",
          "data": {
            "text/plain": [
              "                         Model         RMSE  R2_Score(training)  \\\n",
              "0            Linear Regression  6704.493906            0.911296   \n",
              "1  Polynomial Regression (2nd)  4965.937826            0.951084   \n",
              "2     Decision Tree Regression  3478.834127            0.999285   \n",
              "\n",
              "   R2_Score(test)           MSE  \n",
              "0        0.912090  4.495024e+07  \n",
              "1        0.951771  2.466054e+07  \n",
              "2        0.976331  1.210229e+07  "
            ],
            "text/html": [
              "\n",
              "  <div id=\"df-fb38a38f-3e17-4bfe-bb37-2ea4f5dd0e75\">\n",
              "    <div class=\"colab-df-container\">\n",
              "      <div>\n",
              "<style scoped>\n",
              "    .dataframe tbody tr th:only-of-type {\n",
              "        vertical-align: middle;\n",
              "    }\n",
              "\n",
              "    .dataframe tbody tr th {\n",
              "        vertical-align: top;\n",
              "    }\n",
              "\n",
              "    .dataframe thead th {\n",
              "        text-align: right;\n",
              "    }\n",
              "</style>\n",
              "<table border=\"1\" class=\"dataframe\">\n",
              "  <thead>\n",
              "    <tr style=\"text-align: right;\">\n",
              "      <th></th>\n",
              "      <th>Model</th>\n",
              "      <th>RMSE</th>\n",
              "      <th>R2_Score(training)</th>\n",
              "      <th>R2_Score(test)</th>\n",
              "      <th>MSE</th>\n",
              "    </tr>\n",
              "  </thead>\n",
              "  <tbody>\n",
              "    <tr>\n",
              "      <th>0</th>\n",
              "      <td>Linear Regression</td>\n",
              "      <td>6704.493906</td>\n",
              "      <td>0.911296</td>\n",
              "      <td>0.912090</td>\n",
              "      <td>4.495024e+07</td>\n",
              "    </tr>\n",
              "    <tr>\n",
              "      <th>1</th>\n",
              "      <td>Polynomial Regression (2nd)</td>\n",
              "      <td>4965.937826</td>\n",
              "      <td>0.951084</td>\n",
              "      <td>0.951771</td>\n",
              "      <td>2.466054e+07</td>\n",
              "    </tr>\n",
              "    <tr>\n",
              "      <th>2</th>\n",
              "      <td>Decision Tree Regression</td>\n",
              "      <td>3478.834127</td>\n",
              "      <td>0.999285</td>\n",
              "      <td>0.976331</td>\n",
              "      <td>1.210229e+07</td>\n",
              "    </tr>\n",
              "  </tbody>\n",
              "</table>\n",
              "</div>\n",
              "      <button class=\"colab-df-convert\" onclick=\"convertToInteractive('df-fb38a38f-3e17-4bfe-bb37-2ea4f5dd0e75')\"\n",
              "              title=\"Convert this dataframe to an interactive table.\"\n",
              "              style=\"display:none;\">\n",
              "        \n",
              "  <svg xmlns=\"http://www.w3.org/2000/svg\" height=\"24px\"viewBox=\"0 0 24 24\"\n",
              "       width=\"24px\">\n",
              "    <path d=\"M0 0h24v24H0V0z\" fill=\"none\"/>\n",
              "    <path d=\"M18.56 5.44l.94 2.06.94-2.06 2.06-.94-2.06-.94-.94-2.06-.94 2.06-2.06.94zm-11 1L8.5 8.5l.94-2.06 2.06-.94-2.06-.94L8.5 2.5l-.94 2.06-2.06.94zm10 10l.94 2.06.94-2.06 2.06-.94-2.06-.94-.94-2.06-.94 2.06-2.06.94z\"/><path d=\"M17.41 7.96l-1.37-1.37c-.4-.4-.92-.59-1.43-.59-.52 0-1.04.2-1.43.59L10.3 9.45l-7.72 7.72c-.78.78-.78 2.05 0 2.83L4 21.41c.39.39.9.59 1.41.59.51 0 1.02-.2 1.41-.59l7.78-7.78 2.81-2.81c.8-.78.8-2.07 0-2.86zM5.41 20L4 18.59l7.72-7.72 1.47 1.35L5.41 20z\"/>\n",
              "  </svg>\n",
              "      </button>\n",
              "      \n",
              "  <style>\n",
              "    .colab-df-container {\n",
              "      display:flex;\n",
              "      flex-wrap:wrap;\n",
              "      gap: 12px;\n",
              "    }\n",
              "\n",
              "    .colab-df-convert {\n",
              "      background-color: #E8F0FE;\n",
              "      border: none;\n",
              "      border-radius: 50%;\n",
              "      cursor: pointer;\n",
              "      display: none;\n",
              "      fill: #1967D2;\n",
              "      height: 32px;\n",
              "      padding: 0 0 0 0;\n",
              "      width: 32px;\n",
              "    }\n",
              "\n",
              "    .colab-df-convert:hover {\n",
              "      background-color: #E2EBFA;\n",
              "      box-shadow: 0px 1px 2px rgba(60, 64, 67, 0.3), 0px 1px 3px 1px rgba(60, 64, 67, 0.15);\n",
              "      fill: #174EA6;\n",
              "    }\n",
              "\n",
              "    [theme=dark] .colab-df-convert {\n",
              "      background-color: #3B4455;\n",
              "      fill: #D2E3FC;\n",
              "    }\n",
              "\n",
              "    [theme=dark] .colab-df-convert:hover {\n",
              "      background-color: #434B5C;\n",
              "      box-shadow: 0px 1px 3px 1px rgba(0, 0, 0, 0.15);\n",
              "      filter: drop-shadow(0px 1px 2px rgba(0, 0, 0, 0.3));\n",
              "      fill: #FFFFFF;\n",
              "    }\n",
              "  </style>\n",
              "\n",
              "      <script>\n",
              "        const buttonEl =\n",
              "          document.querySelector('#df-fb38a38f-3e17-4bfe-bb37-2ea4f5dd0e75 button.colab-df-convert');\n",
              "        buttonEl.style.display =\n",
              "          google.colab.kernel.accessAllowed ? 'block' : 'none';\n",
              "\n",
              "        async function convertToInteractive(key) {\n",
              "          const element = document.querySelector('#df-fb38a38f-3e17-4bfe-bb37-2ea4f5dd0e75');\n",
              "          const dataTable =\n",
              "            await google.colab.kernel.invokeFunction('convertToInteractive',\n",
              "                                                     [key], {});\n",
              "          if (!dataTable) return;\n",
              "\n",
              "          const docLinkHtml = 'Like what you see? Visit the ' +\n",
              "            '<a target=\"_blank\" href=https://colab.research.google.com/notebooks/data_table.ipynb>data table notebook</a>'\n",
              "            + ' to learn more about interactive tables.';\n",
              "          element.innerHTML = '';\n",
              "          dataTable['output_type'] = 'display_data';\n",
              "          await google.colab.output.renderOutput(dataTable, element);\n",
              "          const docLink = document.createElement('div');\n",
              "          docLink.innerHTML = docLinkHtml;\n",
              "          element.appendChild(docLink);\n",
              "        }\n",
              "      </script>\n",
              "    </div>\n",
              "  </div>\n",
              "  "
            ]
          },
          "metadata": {},
          "execution_count": 53
        }
      ]
    },
    {
      "cell_type": "code",
      "source": [
        "f, axe = plt.subplots(1,1, figsize=(18,6))\n",
        "\n",
        "predict.sort_values(by=['R2_Score(training)'], ascending=False, inplace=True)\n",
        "\n",
        "sns.barplot(x='R2_Score(training)', y='Model', data = predict, ax = axe)\n",
        "#axes[0].set(xlabel='Region', ylabel='Charges')\n",
        "axe.set_xlabel('R2_Score(training)', size=16)\n",
        "axe.set_ylabel('Model')\n",
        "axe.set_xlim(0,1.0)\n",
        "plt.show()"
      ],
      "metadata": {
        "colab": {
          "base_uri": "https://localhost:8080/",
          "height": 394
        },
        "id": "S4dydPD87XrR",
        "outputId": "ece386f3-d4ba-4ec7-a050-d1851c02ffb7"
      },
      "id": "S4dydPD87XrR",
      "execution_count": 54,
      "outputs": [
        {
          "output_type": "display_data",
          "data": {
            "text/plain": [
              "<Figure size 1296x432 with 1 Axes>"
            ],
            "image/png": "[encoded data removed]"
          },
          "metadata": {
            "needs_background": "light"
          }
        }
      ]
    },
    {
      "cell_type": "code",
      "source": [
        "f, axe = plt.subplots(1,1, figsize=(18,6))\n",
        "predict.sort_values(by=['R2_Score(test)'], ascending=False, inplace=True)\n",
        "\n",
        "sns.barplot(x='R2_Score(test)', y='Model', data = predict, ax = axe)\n",
        "#axes[0].set(xlabel='Region', ylabel='Charges')\n",
        "axe.set_xlabel('R2_Score(test)', size=16)\n",
        "axe.set_ylabel('Model')\n",
        "axe.set_xlim(0,1.0)\n",
        "plt.show()"
      ],
      "metadata": {
        "colab": {
          "base_uri": "https://localhost:8080/",
          "height": 394
        },
        "id": "_dpU437d7aH3",
        "outputId": "2a82fa05-6dcd-4aac-f7a6-dd5dd368a49e"
      },
      "id": "_dpU437d7aH3",
      "execution_count": 58,
      "outputs": [
        {
          "output_type": "display_data",
          "data": {
            "text/plain": [
              "<Figure size 1296x432 with 1 Axes>"
            ],
            "image/png": "[encoded data removed]"
          },
          "metadata": {
            "needs_background": "light"
          }
        }
      ]
    },
    {
      "cell_type": "code",
      "source": [
        "predict.sort_values(by=['RMSE'], ascending=False, inplace=True)\n",
        "\n",
        "f, axe = plt.subplots(1,1, figsize=(18,6))\n",
        "sns.barplot(x='Model', y='RMSE', data=predict, ax = axe)\n",
        "axe.set_xlabel('Model', size=16)\n",
        "axe.set_ylabel('RMSE', size=16)\n",
        "\n",
        "plt.show()"
      ],
      "metadata": {
        "colab": {
          "base_uri": "https://localhost:8080/",
          "height": 395
        },
        "id": "pDFg-k4c7jO6",
        "outputId": "248ba75e-1561-4de1-e1fc-b15487c90791"
      },
      "id": "pDFg-k4c7jO6",
      "execution_count": 57,
      "outputs": [
        {
          "output_type": "display_data",
          "data": {
            "text/plain": [
              "<Figure size 1296x432 with 1 Axes>"
            ],
            "image/png": "[encoded data removed]"
          },
          "metadata": {
            "needs_background": "light"
          }
        }
      ]
    }
  ],
  "metadata": {
    "kernelspec": {
      "display_name": "Python 3",
      "language": "python",
      "name": "python3"
    },
    "language_info": {
      "codemirror_mode": {
        "name": "ipython",
        "version": 3
      },
      "file_extension": ".py",
      "mimetype": "text/x-python",
      "name": "python",
      "nbconvert_exporter": "python",
      "pygments_lexer": "ipython3",
      "version": "3.7.12"
    },
    "papermill": {
      "default_parameters": {},
      "duration": 60.838092,
      "end_time": "2022-06-20T14:08:46.969713",
      "environment_variables": {},
      "exception": null,
      "input_path": "__notebook__.ipynb",
      "output_path": "__notebook__.ipynb",
      "parameters": {},
      "start_time": "2022-06-20T14:07:46.131621",
      "version": "2.3.4"
    },
    "colab": {
      "name": "flight-price-prediction.ipynb",
      "provenance": [],
      "collapsed_sections": [],
      "include_colab_link": true
    }
  },
  "nbformat": 4,
  "nbformat_minor": 5
}
